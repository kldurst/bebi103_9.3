{
 "cells": [
  {
   "cell_type": "markdown",
   "metadata": {},
   "source": [
    "**All work presented in these notebooks is based on data provided by the research group associated with the work presented in Gardner, Zanic, et al. paper titled: Depolymerizing Kinesins Kip3 and MCAK Shape Cellular Microtubule Architecture by Differential Control of Catastrophe (https://www.sciencedirect.com/science/article/pii/S0092867411012876?via%3Dihub).**"
   ]
  },
  {
   "cell_type": "markdown",
   "metadata": {},
   "source": [
    "# Are labeled and unlabeled tubulin catastrophe times identically distributed?"
   ]
  },
  {
   "cell_type": "markdown",
   "metadata": {},
   "source": [
    "In the first notebook, we presented the ECDF's for the labeled and unlabeled tubulin to determine whether the labeling affects the time to catastrophe. These empirical CDF's can be used as plug-in estimates for the actual distribution of the data, to aid in the estimation of parameters that describe the distribution and other useful quantities. \n",
    "\n",
    "More specifically, in addition to simply plotting the distribution of the catastrophe times, it would be useful to visualize confidence intervals of the catastrophe data. Confidence intervals give an estimate for the behavior that might be observed were the experiment to be repeated. Thus, 95% confidence intervals of the catastrophe data, as will be shown here, will map a range of time distributions for which 95% of replicates of the experiment are likely to fall within. \n",
    "\n",
    "Here, the data can be used for boostrapping, or resampling, to simulate experiment replicates. Plotting the ECDF's of these replicates can give confidence intervals for the observed behavior."
   ]
  },
  {
   "cell_type": "markdown",
   "metadata": {},
   "source": [
    "We'll start by loading the previously generated ```dataframe```. Using the ```bokeh_catplot``` plotting package, these bootstrap replicates are automatically generated and the 95% confidence interval is plotted."
   ]
  },
  {
   "cell_type": "code",
   "execution_count": 1,
   "metadata": {},
   "outputs": [
    {
     "data": {
      "text/html": [
       "\n",
       "    <div class=\"bk-root\">\n",
       "        <a href=\"https://bokeh.org\" target=\"_blank\" class=\"bk-logo bk-logo-small bk-logo-notebook\"></a>\n",
       "        <span id=\"1001\">Loading BokehJS ...</span>\n",
       "    </div>"
      ]
     },
     "metadata": {},
     "output_type": "display_data"
    },
    {
     "data": {
      "application/javascript": [
       "\n",
       "(function(root) {\n",
       "  function now() {\n",
       "    return new Date();\n",
       "  }\n",
       "\n",
       "  var force = true;\n",
       "\n",
       "  if (typeof root._bokeh_onload_callbacks === \"undefined\" || force === true) {\n",
       "    root._bokeh_onload_callbacks = [];\n",
       "    root._bokeh_is_loading = undefined;\n",
       "  }\n",
       "\n",
       "  var JS_MIME_TYPE = 'application/javascript';\n",
       "  var HTML_MIME_TYPE = 'text/html';\n",
       "  var EXEC_MIME_TYPE = 'application/vnd.bokehjs_exec.v0+json';\n",
       "  var CLASS_NAME = 'output_bokeh rendered_html';\n",
       "\n",
       "  /**\n",
       "   * Render data to the DOM node\n",
       "   */\n",
       "  function render(props, node) {\n",
       "    var script = document.createElement(\"script\");\n",
       "    node.appendChild(script);\n",
       "  }\n",
       "\n",
       "  /**\n",
       "   * Handle when an output is cleared or removed\n",
       "   */\n",
       "  function handleClearOutput(event, handle) {\n",
       "    var cell = handle.cell;\n",
       "\n",
       "    var id = cell.output_area._bokeh_element_id;\n",
       "    var server_id = cell.output_area._bokeh_server_id;\n",
       "    // Clean up Bokeh references\n",
       "    if (id != null && id in Bokeh.index) {\n",
       "      Bokeh.index[id].model.document.clear();\n",
       "      delete Bokeh.index[id];\n",
       "    }\n",
       "\n",
       "    if (server_id !== undefined) {\n",
       "      // Clean up Bokeh references\n",
       "      var cmd = \"from bokeh.io.state import curstate; print(curstate().uuid_to_server['\" + server_id + \"'].get_sessions()[0].document.roots[0]._id)\";\n",
       "      cell.notebook.kernel.execute(cmd, {\n",
       "        iopub: {\n",
       "          output: function(msg) {\n",
       "            var id = msg.content.text.trim();\n",
       "            if (id in Bokeh.index) {\n",
       "              Bokeh.index[id].model.document.clear();\n",
       "              delete Bokeh.index[id];\n",
       "            }\n",
       "          }\n",
       "        }\n",
       "      });\n",
       "      // Destroy server and session\n",
       "      var cmd = \"import bokeh.io.notebook as ion; ion.destroy_server('\" + server_id + \"')\";\n",
       "      cell.notebook.kernel.execute(cmd);\n",
       "    }\n",
       "  }\n",
       "\n",
       "  /**\n",
       "   * Handle when a new output is added\n",
       "   */\n",
       "  function handleAddOutput(event, handle) {\n",
       "    var output_area = handle.output_area;\n",
       "    var output = handle.output;\n",
       "\n",
       "    // limit handleAddOutput to display_data with EXEC_MIME_TYPE content only\n",
       "    if ((output.output_type != \"display_data\") || (!output.data.hasOwnProperty(EXEC_MIME_TYPE))) {\n",
       "      return\n",
       "    }\n",
       "\n",
       "    var toinsert = output_area.element.find(\".\" + CLASS_NAME.split(' ')[0]);\n",
       "\n",
       "    if (output.metadata[EXEC_MIME_TYPE][\"id\"] !== undefined) {\n",
       "      toinsert[toinsert.length - 1].firstChild.textContent = output.data[JS_MIME_TYPE];\n",
       "      // store reference to embed id on output_area\n",
       "      output_area._bokeh_element_id = output.metadata[EXEC_MIME_TYPE][\"id\"];\n",
       "    }\n",
       "    if (output.metadata[EXEC_MIME_TYPE][\"server_id\"] !== undefined) {\n",
       "      var bk_div = document.createElement(\"div\");\n",
       "      bk_div.innerHTML = output.data[HTML_MIME_TYPE];\n",
       "      var script_attrs = bk_div.children[0].attributes;\n",
       "      for (var i = 0; i < script_attrs.length; i++) {\n",
       "        toinsert[toinsert.length - 1].firstChild.setAttribute(script_attrs[i].name, script_attrs[i].value);\n",
       "      }\n",
       "      // store reference to server id on output_area\n",
       "      output_area._bokeh_server_id = output.metadata[EXEC_MIME_TYPE][\"server_id\"];\n",
       "    }\n",
       "  }\n",
       "\n",
       "  function register_renderer(events, OutputArea) {\n",
       "\n",
       "    function append_mime(data, metadata, element) {\n",
       "      // create a DOM node to render to\n",
       "      var toinsert = this.create_output_subarea(\n",
       "        metadata,\n",
       "        CLASS_NAME,\n",
       "        EXEC_MIME_TYPE\n",
       "      );\n",
       "      this.keyboard_manager.register_events(toinsert);\n",
       "      // Render to node\n",
       "      var props = {data: data, metadata: metadata[EXEC_MIME_TYPE]};\n",
       "      render(props, toinsert[toinsert.length - 1]);\n",
       "      element.append(toinsert);\n",
       "      return toinsert\n",
       "    }\n",
       "\n",
       "    /* Handle when an output is cleared or removed */\n",
       "    events.on('clear_output.CodeCell', handleClearOutput);\n",
       "    events.on('delete.Cell', handleClearOutput);\n",
       "\n",
       "    /* Handle when a new output is added */\n",
       "    events.on('output_added.OutputArea', handleAddOutput);\n",
       "\n",
       "    /**\n",
       "     * Register the mime type and append_mime function with output_area\n",
       "     */\n",
       "    OutputArea.prototype.register_mime_type(EXEC_MIME_TYPE, append_mime, {\n",
       "      /* Is output safe? */\n",
       "      safe: true,\n",
       "      /* Index of renderer in `output_area.display_order` */\n",
       "      index: 0\n",
       "    });\n",
       "  }\n",
       "\n",
       "  // register the mime type if in Jupyter Notebook environment and previously unregistered\n",
       "  if (root.Jupyter !== undefined) {\n",
       "    var events = require('base/js/events');\n",
       "    var OutputArea = require('notebook/js/outputarea').OutputArea;\n",
       "\n",
       "    if (OutputArea.prototype.mime_types().indexOf(EXEC_MIME_TYPE) == -1) {\n",
       "      register_renderer(events, OutputArea);\n",
       "    }\n",
       "  }\n",
       "\n",
       "  \n",
       "  if (typeof (root._bokeh_timeout) === \"undefined\" || force === true) {\n",
       "    root._bokeh_timeout = Date.now() + 5000;\n",
       "    root._bokeh_failed_load = false;\n",
       "  }\n",
       "\n",
       "  var NB_LOAD_WARNING = {'data': {'text/html':\n",
       "     \"<div style='background-color: #fdd'>\\n\"+\n",
       "     \"<p>\\n\"+\n",
       "     \"BokehJS does not appear to have successfully loaded. If loading BokehJS from CDN, this \\n\"+\n",
       "     \"may be due to a slow or bad network connection. Possible fixes:\\n\"+\n",
       "     \"</p>\\n\"+\n",
       "     \"<ul>\\n\"+\n",
       "     \"<li>re-rerun `output_notebook()` to attempt to load from CDN again, or</li>\\n\"+\n",
       "     \"<li>use INLINE resources instead, as so:</li>\\n\"+\n",
       "     \"</ul>\\n\"+\n",
       "     \"<code>\\n\"+\n",
       "     \"from bokeh.resources import INLINE\\n\"+\n",
       "     \"output_notebook(resources=INLINE)\\n\"+\n",
       "     \"</code>\\n\"+\n",
       "     \"</div>\"}};\n",
       "\n",
       "  function display_loaded() {\n",
       "    var el = document.getElementById(\"1001\");\n",
       "    if (el != null) {\n",
       "      el.textContent = \"BokehJS is loading...\";\n",
       "    }\n",
       "    if (root.Bokeh !== undefined) {\n",
       "      if (el != null) {\n",
       "        el.textContent = \"BokehJS \" + root.Bokeh.version + \" successfully loaded.\";\n",
       "      }\n",
       "    } else if (Date.now() < root._bokeh_timeout) {\n",
       "      setTimeout(display_loaded, 100)\n",
       "    }\n",
       "  }\n",
       "\n",
       "\n",
       "  function run_callbacks() {\n",
       "    try {\n",
       "      root._bokeh_onload_callbacks.forEach(function(callback) {\n",
       "        if (callback != null)\n",
       "          callback();\n",
       "      });\n",
       "    } finally {\n",
       "      delete root._bokeh_onload_callbacks\n",
       "    }\n",
       "    console.debug(\"Bokeh: all callbacks have finished\");\n",
       "  }\n",
       "\n",
       "  function load_libs(css_urls, js_urls, callback) {\n",
       "    if (css_urls == null) css_urls = [];\n",
       "    if (js_urls == null) js_urls = [];\n",
       "\n",
       "    root._bokeh_onload_callbacks.push(callback);\n",
       "    if (root._bokeh_is_loading > 0) {\n",
       "      console.debug(\"Bokeh: BokehJS is being loaded, scheduling callback at\", now());\n",
       "      return null;\n",
       "    }\n",
       "    if (js_urls == null || js_urls.length === 0) {\n",
       "      run_callbacks();\n",
       "      return null;\n",
       "    }\n",
       "    console.debug(\"Bokeh: BokehJS not loaded, scheduling load and callback at\", now());\n",
       "    root._bokeh_is_loading = css_urls.length + js_urls.length;\n",
       "\n",
       "    function on_load() {\n",
       "      root._bokeh_is_loading--;\n",
       "      if (root._bokeh_is_loading === 0) {\n",
       "        console.debug(\"Bokeh: all BokehJS libraries/stylesheets loaded\");\n",
       "        run_callbacks()\n",
       "      }\n",
       "    }\n",
       "\n",
       "    function on_error() {\n",
       "      console.error(\"failed to load \" + url);\n",
       "    }\n",
       "\n",
       "    for (var i = 0; i < css_urls.length; i++) {\n",
       "      var url = css_urls[i];\n",
       "      const element = document.createElement(\"link\");\n",
       "      element.onload = on_load;\n",
       "      element.onerror = on_error;\n",
       "      element.rel = \"stylesheet\";\n",
       "      element.type = \"text/css\";\n",
       "      element.href = url;\n",
       "      console.debug(\"Bokeh: injecting link tag for BokehJS stylesheet: \", url);\n",
       "      document.body.appendChild(element);\n",
       "    }\n",
       "\n",
       "    for (var i = 0; i < js_urls.length; i++) {\n",
       "      var url = js_urls[i];\n",
       "      var element = document.createElement('script');\n",
       "      element.onload = on_load;\n",
       "      element.onerror = on_error;\n",
       "      element.async = false;\n",
       "      element.src = url;\n",
       "      console.debug(\"Bokeh: injecting script tag for BokehJS library: \", url);\n",
       "      document.head.appendChild(element);\n",
       "    }\n",
       "  };var element = document.getElementById(\"1001\");\n",
       "  if (element == null) {\n",
       "    console.error(\"Bokeh: ERROR: autoload.js configured with elementid '1001' but no matching script tag was found. \")\n",
       "    return false;\n",
       "  }\n",
       "\n",
       "  function inject_raw_css(css) {\n",
       "    const element = document.createElement(\"style\");\n",
       "    element.appendChild(document.createTextNode(css));\n",
       "    document.body.appendChild(element);\n",
       "  }\n",
       "\n",
       "  \n",
       "  var js_urls = [\"https://cdn.pydata.org/bokeh/release/bokeh-1.4.0.min.js\", \"https://cdn.pydata.org/bokeh/release/bokeh-widgets-1.4.0.min.js\", \"https://cdn.pydata.org/bokeh/release/bokeh-tables-1.4.0.min.js\", \"https://cdn.pydata.org/bokeh/release/bokeh-gl-1.4.0.min.js\"];\n",
       "  var css_urls = [];\n",
       "  \n",
       "\n",
       "  var inline_js = [\n",
       "    function(Bokeh) {\n",
       "      Bokeh.set_log_level(\"info\");\n",
       "    },\n",
       "    function(Bokeh) {\n",
       "    \n",
       "    \n",
       "    }\n",
       "  ];\n",
       "\n",
       "  function run_inline_js() {\n",
       "    \n",
       "    if (root.Bokeh !== undefined || force === true) {\n",
       "      \n",
       "    for (var i = 0; i < inline_js.length; i++) {\n",
       "      inline_js[i].call(root, root.Bokeh);\n",
       "    }\n",
       "    if (force === true) {\n",
       "        display_loaded();\n",
       "      }} else if (Date.now() < root._bokeh_timeout) {\n",
       "      setTimeout(run_inline_js, 100);\n",
       "    } else if (!root._bokeh_failed_load) {\n",
       "      console.log(\"Bokeh: BokehJS failed to load within specified timeout.\");\n",
       "      root._bokeh_failed_load = true;\n",
       "    } else if (force !== true) {\n",
       "      var cell = $(document.getElementById(\"1001\")).parents('.cell').data().cell;\n",
       "      cell.output_area.append_execute_result(NB_LOAD_WARNING)\n",
       "    }\n",
       "\n",
       "  }\n",
       "\n",
       "  if (root._bokeh_is_loading === 0) {\n",
       "    console.debug(\"Bokeh: BokehJS loaded, going straight to plotting\");\n",
       "    run_inline_js();\n",
       "  } else {\n",
       "    load_libs(css_urls, js_urls, function() {\n",
       "      console.debug(\"Bokeh: BokehJS plotting callback run at\", now());\n",
       "      run_inline_js();\n",
       "    });\n",
       "  }\n",
       "}(window));"
      ],
      "application/vnd.bokehjs_load.v0+json": "\n(function(root) {\n  function now() {\n    return new Date();\n  }\n\n  var force = true;\n\n  if (typeof root._bokeh_onload_callbacks === \"undefined\" || force === true) {\n    root._bokeh_onload_callbacks = [];\n    root._bokeh_is_loading = undefined;\n  }\n\n  \n\n  \n  if (typeof (root._bokeh_timeout) === \"undefined\" || force === true) {\n    root._bokeh_timeout = Date.now() + 5000;\n    root._bokeh_failed_load = false;\n  }\n\n  var NB_LOAD_WARNING = {'data': {'text/html':\n     \"<div style='background-color: #fdd'>\\n\"+\n     \"<p>\\n\"+\n     \"BokehJS does not appear to have successfully loaded. If loading BokehJS from CDN, this \\n\"+\n     \"may be due to a slow or bad network connection. Possible fixes:\\n\"+\n     \"</p>\\n\"+\n     \"<ul>\\n\"+\n     \"<li>re-rerun `output_notebook()` to attempt to load from CDN again, or</li>\\n\"+\n     \"<li>use INLINE resources instead, as so:</li>\\n\"+\n     \"</ul>\\n\"+\n     \"<code>\\n\"+\n     \"from bokeh.resources import INLINE\\n\"+\n     \"output_notebook(resources=INLINE)\\n\"+\n     \"</code>\\n\"+\n     \"</div>\"}};\n\n  function display_loaded() {\n    var el = document.getElementById(\"1001\");\n    if (el != null) {\n      el.textContent = \"BokehJS is loading...\";\n    }\n    if (root.Bokeh !== undefined) {\n      if (el != null) {\n        el.textContent = \"BokehJS \" + root.Bokeh.version + \" successfully loaded.\";\n      }\n    } else if (Date.now() < root._bokeh_timeout) {\n      setTimeout(display_loaded, 100)\n    }\n  }\n\n\n  function run_callbacks() {\n    try {\n      root._bokeh_onload_callbacks.forEach(function(callback) {\n        if (callback != null)\n          callback();\n      });\n    } finally {\n      delete root._bokeh_onload_callbacks\n    }\n    console.debug(\"Bokeh: all callbacks have finished\");\n  }\n\n  function load_libs(css_urls, js_urls, callback) {\n    if (css_urls == null) css_urls = [];\n    if (js_urls == null) js_urls = [];\n\n    root._bokeh_onload_callbacks.push(callback);\n    if (root._bokeh_is_loading > 0) {\n      console.debug(\"Bokeh: BokehJS is being loaded, scheduling callback at\", now());\n      return null;\n    }\n    if (js_urls == null || js_urls.length === 0) {\n      run_callbacks();\n      return null;\n    }\n    console.debug(\"Bokeh: BokehJS not loaded, scheduling load and callback at\", now());\n    root._bokeh_is_loading = css_urls.length + js_urls.length;\n\n    function on_load() {\n      root._bokeh_is_loading--;\n      if (root._bokeh_is_loading === 0) {\n        console.debug(\"Bokeh: all BokehJS libraries/stylesheets loaded\");\n        run_callbacks()\n      }\n    }\n\n    function on_error() {\n      console.error(\"failed to load \" + url);\n    }\n\n    for (var i = 0; i < css_urls.length; i++) {\n      var url = css_urls[i];\n      const element = document.createElement(\"link\");\n      element.onload = on_load;\n      element.onerror = on_error;\n      element.rel = \"stylesheet\";\n      element.type = \"text/css\";\n      element.href = url;\n      console.debug(\"Bokeh: injecting link tag for BokehJS stylesheet: \", url);\n      document.body.appendChild(element);\n    }\n\n    for (var i = 0; i < js_urls.length; i++) {\n      var url = js_urls[i];\n      var element = document.createElement('script');\n      element.onload = on_load;\n      element.onerror = on_error;\n      element.async = false;\n      element.src = url;\n      console.debug(\"Bokeh: injecting script tag for BokehJS library: \", url);\n      document.head.appendChild(element);\n    }\n  };var element = document.getElementById(\"1001\");\n  if (element == null) {\n    console.error(\"Bokeh: ERROR: autoload.js configured with elementid '1001' but no matching script tag was found. \")\n    return false;\n  }\n\n  function inject_raw_css(css) {\n    const element = document.createElement(\"style\");\n    element.appendChild(document.createTextNode(css));\n    document.body.appendChild(element);\n  }\n\n  \n  var js_urls = [\"https://cdn.pydata.org/bokeh/release/bokeh-1.4.0.min.js\", \"https://cdn.pydata.org/bokeh/release/bokeh-widgets-1.4.0.min.js\", \"https://cdn.pydata.org/bokeh/release/bokeh-tables-1.4.0.min.js\", \"https://cdn.pydata.org/bokeh/release/bokeh-gl-1.4.0.min.js\"];\n  var css_urls = [];\n  \n\n  var inline_js = [\n    function(Bokeh) {\n      Bokeh.set_log_level(\"info\");\n    },\n    function(Bokeh) {\n    \n    \n    }\n  ];\n\n  function run_inline_js() {\n    \n    if (root.Bokeh !== undefined || force === true) {\n      \n    for (var i = 0; i < inline_js.length; i++) {\n      inline_js[i].call(root, root.Bokeh);\n    }\n    if (force === true) {\n        display_loaded();\n      }} else if (Date.now() < root._bokeh_timeout) {\n      setTimeout(run_inline_js, 100);\n    } else if (!root._bokeh_failed_load) {\n      console.log(\"Bokeh: BokehJS failed to load within specified timeout.\");\n      root._bokeh_failed_load = true;\n    } else if (force !== true) {\n      var cell = $(document.getElementById(\"1001\")).parents('.cell').data().cell;\n      cell.output_area.append_execute_result(NB_LOAD_WARNING)\n    }\n\n  }\n\n  if (root._bokeh_is_loading === 0) {\n    console.debug(\"Bokeh: BokehJS loaded, going straight to plotting\");\n    run_inline_js();\n  } else {\n    load_libs(css_urls, js_urls, function() {\n      console.debug(\"Bokeh: BokehJS plotting callback run at\", now());\n      run_inline_js();\n    });\n  }\n}(window));"
     },
     "metadata": {},
     "output_type": "display_data"
    }
   ],
   "source": [
    "import numpy as np\n",
    "import pandas as pd\n",
    "\n",
    "import scipy.stats as stats\n",
    "\n",
    "import bokeh.io\n",
    "import bokeh.plotting\n",
    "import bokeh_catplot\n",
    "bokeh.io.output_notebook()"
   ]
  },
  {
   "cell_type": "code",
   "execution_count": 2,
   "metadata": {},
   "outputs": [
    {
     "data": {
      "text/html": [
       "<div>\n",
       "<style scoped>\n",
       "    .dataframe tbody tr th:only-of-type {\n",
       "        vertical-align: middle;\n",
       "    }\n",
       "\n",
       "    .dataframe tbody tr th {\n",
       "        vertical-align: top;\n",
       "    }\n",
       "\n",
       "    .dataframe thead th {\n",
       "        text-align: right;\n",
       "    }\n",
       "</style>\n",
       "<table border=\"1\" class=\"dataframe\">\n",
       "  <thead>\n",
       "    <tr style=\"text-align: right;\">\n",
       "      <th></th>\n",
       "      <th>time to catastrophe (s)</th>\n",
       "      <th>labeled</th>\n",
       "    </tr>\n",
       "  </thead>\n",
       "  <tbody>\n",
       "    <tr>\n",
       "      <th>0</th>\n",
       "      <td>40.0</td>\n",
       "      <td>False</td>\n",
       "    </tr>\n",
       "    <tr>\n",
       "      <th>1</th>\n",
       "      <td>60.0</td>\n",
       "      <td>False</td>\n",
       "    </tr>\n",
       "    <tr>\n",
       "      <th>2</th>\n",
       "      <td>75.0</td>\n",
       "      <td>False</td>\n",
       "    </tr>\n",
       "    <tr>\n",
       "      <th>3</th>\n",
       "      <td>80.0</td>\n",
       "      <td>False</td>\n",
       "    </tr>\n",
       "    <tr>\n",
       "      <th>4</th>\n",
       "      <td>85.0</td>\n",
       "      <td>False</td>\n",
       "    </tr>\n",
       "  </tbody>\n",
       "</table>\n",
       "</div>"
      ],
      "text/plain": [
       "   time to catastrophe (s)  labeled\n",
       "0                     40.0    False\n",
       "1                     60.0    False\n",
       "2                     75.0    False\n",
       "3                     80.0    False\n",
       "4                     85.0    False"
      ]
     },
     "execution_count": 2,
     "metadata": {},
     "output_type": "execute_result"
    }
   ],
   "source": [
    "#read in the dataframe\n",
    "df = pd.read_csv('gardner_time_to_catastrophe_df_tidy.csv',)\n",
    "\n",
    "df.head()"
   ]
  },
  {
   "cell_type": "code",
   "execution_count": 123,
   "metadata": {},
   "outputs": [
    {
     "data": {
      "text/html": [
       "\n",
       "\n",
       "\n",
       "\n",
       "\n",
       "\n",
       "  <div class=\"bk-root\" id=\"320ce190-42b9-4f6b-ab1d-418cbf0f822f\" data-root-id=\"8746\"></div>\n"
      ]
     },
     "metadata": {},
     "output_type": "display_data"
    },
    {
     "data": {
      "application/javascript": [
       "(function(root) {\n",
       "  function embed_document(root) {\n",
       "    \n",
       "  var docs_json = {\"e46bb0e8-20fe-494d-8c97-eac44c5b501f\":{\"roots\":{\"references\":[{\"attributes\":{\"below\":[{\"id\":\"8755\",\"type\":\"LinearAxis\"}],\"center\":[{\"id\":\"8759\",\"type\":\"Grid\"},{\"id\":\"8764\",\"type\":\"Grid\"},{\"id\":\"8790\",\"type\":\"Legend\"}],\"left\":[{\"id\":\"8760\",\"type\":\"LinearAxis\"}],\"plot_height\":300,\"plot_width\":400,\"renderers\":[{\"id\":\"8781\",\"type\":\"GlyphRenderer\"},{\"id\":\"8795\",\"type\":\"GlyphRenderer\"},{\"id\":\"8809\",\"type\":\"GlyphRenderer\"},{\"id\":\"8825\",\"type\":\"GlyphRenderer\"},{\"id\":\"8843\",\"type\":\"GlyphRenderer\"},{\"id\":\"8864\",\"type\":\"GlyphRenderer\"},{\"id\":\"8886\",\"type\":\"GlyphRenderer\"},{\"id\":\"8910\",\"type\":\"GlyphRenderer\"}],\"title\":{\"id\":\"8783\",\"type\":\"Title\"},\"toolbar\":{\"id\":\"8771\",\"type\":\"Toolbar\"},\"x_range\":{\"id\":\"8747\",\"type\":\"DataRange1d\"},\"x_scale\":{\"id\":\"8751\",\"type\":\"LinearScale\"},\"y_range\":{\"id\":\"8749\",\"type\":\"DataRange1d\"},\"y_scale\":{\"id\":\"8753\",\"type\":\"LinearScale\"}},\"id\":\"8746\",\"subtype\":\"Figure\",\"type\":\"Plot\"},{\"attributes\":{\"callback\":null,\"data\":{},\"selected\":{\"id\":\"8859\",\"type\":\"Selection\"},\"selection_policy\":{\"id\":\"8858\",\"type\":\"UnionRenderers\"}},\"id\":\"8822\",\"type\":\"ColumnDataSource\"},{\"attributes\":{},\"id\":\"8838\",\"type\":\"UnionRenderers\"},{\"attributes\":{\"label\":{\"value\":\"True\"},\"renderers\":[{\"id\":\"8843\",\"type\":\"GlyphRenderer\"},{\"id\":\"8864\",\"type\":\"GlyphRenderer\"},{\"id\":\"8886\",\"type\":\"GlyphRenderer\"},{\"id\":\"8910\",\"type\":\"GlyphRenderer\"}]},\"id\":\"8860\",\"type\":\"LegendItem\"},{\"attributes\":{\"source\":{\"id\":\"8806\",\"type\":\"ColumnDataSource\"}},\"id\":\"8810\",\"type\":\"CDSView\"},{\"attributes\":{\"angle\":{\"units\":\"rad\",\"value\":0},\"line_color\":{\"value\":\"#1f77b3\"},\"line_width\":{\"value\":2},\"x\":{\"value\":1815.0},\"y\":{\"value\":1}},\"id\":\"8823\",\"type\":\"Ray\"},{\"attributes\":{\"angle\":{\"units\":\"rad\",\"value\":0},\"line_alpha\":{\"value\":0.1},\"line_color\":{\"value\":\"#1f77b4\"},\"line_width\":{\"value\":2},\"x\":{\"value\":1815.0},\"y\":{\"value\":1}},\"id\":\"8824\",\"type\":\"Ray\"},{\"attributes\":{\"fill_alpha\":0.1,\"fill_color\":\"#1f77b4\",\"line_alpha\":0.1,\"line_color\":\"#1f77b4\",\"x\":{\"field\":\"x\"},\"y\":{\"field\":\"y\"}},\"id\":\"8842\",\"type\":\"Patch\"},{\"attributes\":{\"callback\":null,\"data\":{\"x\":{\"__ndarray__\":\"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\",\"dtype\":\"float64\",\"shape\":[484]},\"y\":{\"__ndarray__\":\"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\",\"dtype\":\"float64\",\"shape\":[484]}},\"selected\":{\"id\":\"8882\",\"type\":\"Selection\"},\"selection_policy\":{\"id\":\"8881\",\"type\":\"UnionRenderers\"}},\"id\":\"8840\",\"type\":\"ColumnDataSource\"},{\"attributes\":{\"data_source\":{\"id\":\"8840\",\"type\":\"ColumnDataSource\"},\"glyph\":{\"id\":\"8841\",\"type\":\"Patch\"},\"hover_glyph\":null,\"muted_glyph\":null,\"nonselection_glyph\":{\"id\":\"8842\",\"type\":\"Patch\"},\"selection_glyph\":null,\"view\":{\"id\":\"8844\",\"type\":\"CDSView\"}},\"id\":\"8843\",\"type\":\"GlyphRenderer\"},{\"attributes\":{\"source\":{\"id\":\"8822\",\"type\":\"ColumnDataSource\"}},\"id\":\"8826\",\"type\":\"CDSView\"},{\"attributes\":{},\"id\":\"8820\",\"type\":\"UnionRenderers\"},{\"attributes\":{},\"id\":\"8821\",\"type\":\"Selection\"},{\"attributes\":{\"data_source\":{\"id\":\"8822\",\"type\":\"ColumnDataSource\"},\"glyph\":{\"id\":\"8823\",\"type\":\"Ray\"},\"hover_glyph\":null,\"muted_glyph\":null,\"nonselection_glyph\":{\"id\":\"8824\",\"type\":\"Ray\"},\"selection_glyph\":null,\"view\":{\"id\":\"8826\",\"type\":\"CDSView\"}},\"id\":\"8825\",\"type\":\"GlyphRenderer\"},{\"attributes\":{\"source\":{\"id\":\"8861\",\"type\":\"ColumnDataSource\"}},\"id\":\"8865\",\"type\":\"CDSView\"},{\"attributes\":{},\"id\":\"8751\",\"type\":\"LinearScale\"},{\"attributes\":{},\"id\":\"8881\",\"type\":\"UnionRenderers\"},{\"attributes\":{\"callback\":null,\"data\":{},\"selected\":{\"id\":\"8932\",\"type\":\"Selection\"},\"selection_policy\":{\"id\":\"8931\",\"type\":\"UnionRenderers\"}},\"id\":\"8883\",\"type\":\"ColumnDataSource\"},{\"attributes\":{},\"id\":\"8753\",\"type\":\"LinearScale\"},{\"attributes\":{},\"id\":\"8882\",\"type\":\"Selection\"},{\"attributes\":{\"axis_label\":\"time to catastrophe (s)\",\"formatter\":{\"id\":\"8788\",\"type\":\"BasicTickFormatter\"},\"ticker\":{\"id\":\"8756\",\"type\":\"BasicTicker\"}},\"id\":\"8755\",\"type\":\"LinearAxis\"},{\"attributes\":{\"angle\":{\"units\":\"rad\",\"value\":3.141592653589793},\"line_alpha\":{\"value\":0.1},\"line_color\":{\"value\":\"#1f77b4\"},\"line_width\":{\"value\":2},\"x\":{\"value\":55.0},\"y\":{\"value\":0}},\"id\":\"8885\",\"type\":\"Ray\"},{\"attributes\":{\"dimension\":1,\"ticker\":{\"id\":\"8761\",\"type\":\"BasicTicker\"}},\"id\":\"8764\",\"type\":\"Grid\"},{\"attributes\":{},\"id\":\"8756\",\"type\":\"BasicTicker\"},{\"attributes\":{\"angle\":{\"units\":\"rad\",\"value\":3.141592653589793},\"line_color\":{\"value\":\"#ff7e0e\"},\"line_width\":{\"value\":2},\"x\":{\"value\":55.0},\"y\":{\"value\":0}},\"id\":\"8884\",\"type\":\"Ray\"},{\"attributes\":{\"callback\":null,\"data\":{},\"selected\":{\"id\":\"9272\",\"type\":\"Selection\"},\"selection_policy\":{\"id\":\"9271\",\"type\":\"UnionRenderers\"}},\"id\":\"8907\",\"type\":\"ColumnDataSource\"},{\"attributes\":{\"ticker\":{\"id\":\"8756\",\"type\":\"BasicTicker\"}},\"id\":\"8759\",\"type\":\"Grid\"},{\"attributes\":{\"source\":{\"id\":\"8883\",\"type\":\"ColumnDataSource\"}},\"id\":\"8887\",\"type\":\"CDSView\"},{\"attributes\":{\"data_source\":{\"id\":\"8883\",\"type\":\"ColumnDataSource\"},\"glyph\":{\"id\":\"8884\",\"type\":\"Ray\"},\"hover_glyph\":null,\"muted_glyph\":null,\"nonselection_glyph\":{\"id\":\"8885\",\"type\":\"Ray\"},\"selection_glyph\":null,\"view\":{\"id\":\"8887\",\"type\":\"CDSView\"}},\"id\":\"8886\",\"type\":\"GlyphRenderer\"},{\"attributes\":{},\"id\":\"8761\",\"type\":\"BasicTicker\"},{\"attributes\":{\"axis_label\":\"ECDF\",\"formatter\":{\"id\":\"8786\",\"type\":\"BasicTickFormatter\"},\"ticker\":{\"id\":\"8761\",\"type\":\"BasicTicker\"}},\"id\":\"8760\",\"type\":\"LinearAxis\"},{\"attributes\":{},\"id\":\"8905\",\"type\":\"UnionRenderers\"},{\"attributes\":{},\"id\":\"8906\",\"type\":\"Selection\"},{\"attributes\":{\"active_drag\":\"auto\",\"active_inspect\":\"auto\",\"active_multi\":null,\"active_scroll\":\"auto\",\"active_tap\":\"auto\",\"tools\":[{\"id\":\"8765\",\"type\":\"PanTool\"},{\"id\":\"8766\",\"type\":\"WheelZoomTool\"},{\"id\":\"8767\",\"type\":\"BoxZoomTool\"},{\"id\":\"8768\",\"type\":\"SaveTool\"},{\"id\":\"8769\",\"type\":\"ResetTool\"},{\"id\":\"8770\",\"type\":\"HelpTool\"}]},\"id\":\"8771\",\"type\":\"Toolbar\"},{\"attributes\":{\"angle\":{\"units\":\"rad\",\"value\":0},\"line_alpha\":{\"value\":0.1},\"line_color\":{\"value\":\"#1f77b4\"},\"line_width\":{\"value\":2},\"x\":{\"value\":1730.0},\"y\":{\"value\":1}},\"id\":\"8909\",\"type\":\"Ray\"},{\"attributes\":{},\"id\":\"8765\",\"type\":\"PanTool\"},{\"attributes\":{\"angle\":{\"units\":\"rad\",\"value\":0},\"line_color\":{\"value\":\"#ff7e0e\"},\"line_width\":{\"value\":2},\"x\":{\"value\":1730.0},\"y\":{\"value\":1}},\"id\":\"8908\",\"type\":\"Ray\"},{\"attributes\":{\"source\":{\"id\":\"8840\",\"type\":\"ColumnDataSource\"}},\"id\":\"8844\",\"type\":\"CDSView\"},{\"attributes\":{},\"id\":\"8766\",\"type\":\"WheelZoomTool\"},{\"attributes\":{\"source\":{\"id\":\"8907\",\"type\":\"ColumnDataSource\"}},\"id\":\"8911\",\"type\":\"CDSView\"},{\"attributes\":{\"angle\":{\"units\":\"rad\",\"value\":3.141592653589793},\"line_alpha\":{\"value\":0.1},\"line_color\":{\"value\":\"#1f77b4\"},\"line_width\":{\"value\":2},\"x\":{\"value\":40.0},\"y\":{\"value\":0}},\"id\":\"8808\",\"type\":\"Ray\"},{\"attributes\":{\"data_source\":{\"id\":\"8907\",\"type\":\"ColumnDataSource\"},\"glyph\":{\"id\":\"8908\",\"type\":\"Ray\"},\"hover_glyph\":null,\"muted_glyph\":null,\"nonselection_glyph\":{\"id\":\"8909\",\"type\":\"Ray\"},\"selection_glyph\":null,\"view\":{\"id\":\"8911\",\"type\":\"CDSView\"}},\"id\":\"8910\",\"type\":\"GlyphRenderer\"},{\"attributes\":{\"overlay\":{\"id\":\"8789\",\"type\":\"BoxAnnotation\"}},\"id\":\"8767\",\"type\":\"BoxZoomTool\"},{\"attributes\":{},\"id\":\"8768\",\"type\":\"SaveTool\"},{\"attributes\":{},\"id\":\"8931\",\"type\":\"UnionRenderers\"},{\"attributes\":{\"callback\":null,\"data\":{\"x\":{\"__ndarray__\":\"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\",\"dtype\":\"float64\",\"shape\":[190]},\"y\":{\"__ndarray__\":\"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\",\"dtype\":\"float64\",\"shape\":[190]}},\"selected\":{\"id\":\"8821\",\"type\":\"Selection\"},\"selection_policy\":{\"id\":\"8820\",\"type\":\"UnionRenderers\"}},\"id\":\"8792\",\"type\":\"ColumnDataSource\"},{\"attributes\":{},\"id\":\"8769\",\"type\":\"ResetTool\"},{\"attributes\":{},\"id\":\"8932\",\"type\":\"Selection\"},{\"attributes\":{\"data_source\":{\"id\":\"8806\",\"type\":\"ColumnDataSource\"},\"glyph\":{\"id\":\"8807\",\"type\":\"Ray\"},\"hover_glyph\":null,\"muted_glyph\":null,\"nonselection_glyph\":{\"id\":\"8808\",\"type\":\"Ray\"},\"selection_glyph\":null,\"view\":{\"id\":\"8810\",\"type\":\"CDSView\"}},\"id\":\"8809\",\"type\":\"GlyphRenderer\"},{\"attributes\":{},\"id\":\"8770\",\"type\":\"HelpTool\"},{\"attributes\":{\"text\":\"\"},\"id\":\"8783\",\"type\":\"Title\"},{\"attributes\":{\"line_alpha\":0.1,\"line_color\":\"#1f77b4\",\"line_width\":2,\"x\":{\"field\":\"x\"},\"y\":{\"field\":\"y\"}},\"id\":\"8794\",\"type\":\"Line\"},{\"attributes\":{\"line_alpha\":0.1,\"line_color\":\"#1f77b4\",\"line_width\":2,\"x\":{\"field\":\"x\"},\"y\":{\"field\":\"y\"}},\"id\":\"8863\",\"type\":\"Line\"},{\"attributes\":{},\"id\":\"8804\",\"type\":\"UnionRenderers\"},{\"attributes\":{\"line_color\":\"#ff7e0e\",\"line_width\":2,\"x\":{\"field\":\"x\"},\"y\":{\"field\":\"y\"}},\"id\":\"8862\",\"type\":\"Line\"},{\"attributes\":{},\"id\":\"8859\",\"type\":\"Selection\"},{\"attributes\":{\"line_color\":\"#1f77b3\",\"line_width\":2,\"x\":{\"field\":\"x\"},\"y\":{\"field\":\"y\"}},\"id\":\"8793\",\"type\":\"Line\"},{\"attributes\":{},\"id\":\"9271\",\"type\":\"UnionRenderers\"},{\"attributes\":{\"callback\":null,\"data\":{\"x\":{\"__ndarray__\":\"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\",\"dtype\":\"float64\",\"shape\":[422]},\"y\":{\"__ndarray__\":\"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\",\"dtype\":\"float64\",\"shape\":[422]}},\"selected\":{\"id\":\"8906\",\"type\":\"Selection\"},\"selection_policy\":{\"id\":\"8905\",\"type\":\"UnionRenderers\"}},\"id\":\"8861\",\"type\":\"ColumnDataSource\"},{\"attributes\":{\"fill_alpha\":0.5,\"fill_color\":\"#ff7e0e\",\"line_alpha\":0,\"line_color\":\"#1f77b4\",\"x\":{\"field\":\"x\"},\"y\":{\"field\":\"y\"}},\"id\":\"8841\",\"type\":\"Patch\"},{\"attributes\":{},\"id\":\"9272\",\"type\":\"Selection\"},{\"attributes\":{\"label\":{\"value\":\"False\"},\"renderers\":[{\"id\":\"8781\",\"type\":\"GlyphRenderer\"},{\"id\":\"8795\",\"type\":\"GlyphRenderer\"},{\"id\":\"8809\",\"type\":\"GlyphRenderer\"},{\"id\":\"8825\",\"type\":\"GlyphRenderer\"}]},\"id\":\"8791\",\"type\":\"LegendItem\"},{\"attributes\":{\"source\":{\"id\":\"8778\",\"type\":\"ColumnDataSource\"}},\"id\":\"8782\",\"type\":\"CDSView\"},{\"attributes\":{\"callback\":null,\"data\":{\"x\":{\"__ndarray__\":\"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\",\"dtype\":\"float64\",\"shape\":[288]},\"y\":{\"__ndarray__\":\"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\",\"dtype\":\"float64\",\"shape\":[288]}},\"selected\":{\"id\":\"8805\",\"type\":\"Selection\"},\"selection_policy\":{\"id\":\"8804\",\"type\":\"UnionRenderers\"}},\"id\":\"8778\",\"type\":\"ColumnDataSource\"},{\"attributes\":{},\"id\":\"8839\",\"type\":\"Selection\"},{\"attributes\":{\"data_source\":{\"id\":\"8792\",\"type\":\"ColumnDataSource\"},\"glyph\":{\"id\":\"8793\",\"type\":\"Line\"},\"hover_glyph\":null,\"muted_glyph\":null,\"nonselection_glyph\":{\"id\":\"8794\",\"type\":\"Line\"},\"selection_glyph\":null,\"view\":{\"id\":\"8796\",\"type\":\"CDSView\"}},\"id\":\"8795\",\"type\":\"GlyphRenderer\"},{\"attributes\":{\"click_policy\":\"hide\",\"items\":[{\"id\":\"8791\",\"type\":\"LegendItem\"},{\"id\":\"8860\",\"type\":\"LegendItem\"}],\"location\":\"bottom_right\",\"title\":\"Labeled?\"},\"id\":\"8790\",\"type\":\"Legend\"},{\"attributes\":{\"data_source\":{\"id\":\"8861\",\"type\":\"ColumnDataSource\"},\"glyph\":{\"id\":\"8862\",\"type\":\"Line\"},\"hover_glyph\":null,\"muted_glyph\":null,\"nonselection_glyph\":{\"id\":\"8863\",\"type\":\"Line\"},\"selection_glyph\":null,\"view\":{\"id\":\"8865\",\"type\":\"CDSView\"}},\"id\":\"8864\",\"type\":\"GlyphRenderer\"},{\"attributes\":{},\"id\":\"8786\",\"type\":\"BasicTickFormatter\"},{\"attributes\":{\"fill_alpha\":0.5,\"fill_color\":\"#1f77b3\",\"line_alpha\":0,\"line_color\":\"#1f77b4\",\"x\":{\"field\":\"x\"},\"y\":{\"field\":\"y\"}},\"id\":\"8779\",\"type\":\"Patch\"},{\"attributes\":{\"fill_alpha\":0.1,\"fill_color\":\"#1f77b4\",\"line_alpha\":0.1,\"line_color\":\"#1f77b4\",\"x\":{\"field\":\"x\"},\"y\":{\"field\":\"y\"}},\"id\":\"8780\",\"type\":\"Patch\"},{\"attributes\":{},\"id\":\"8858\",\"type\":\"UnionRenderers\"},{\"attributes\":{\"callback\":null},\"id\":\"8749\",\"type\":\"DataRange1d\"},{\"attributes\":{},\"id\":\"8805\",\"type\":\"Selection\"},{\"attributes\":{\"source\":{\"id\":\"8792\",\"type\":\"ColumnDataSource\"}},\"id\":\"8796\",\"type\":\"CDSView\"},{\"attributes\":{\"angle\":{\"units\":\"rad\",\"value\":3.141592653589793},\"line_color\":{\"value\":\"#1f77b3\"},\"line_width\":{\"value\":2},\"x\":{\"value\":40.0},\"y\":{\"value\":0}},\"id\":\"8807\",\"type\":\"Ray\"},{\"attributes\":{},\"id\":\"8788\",\"type\":\"BasicTickFormatter\"},{\"attributes\":{\"data_source\":{\"id\":\"8778\",\"type\":\"ColumnDataSource\"},\"glyph\":{\"id\":\"8779\",\"type\":\"Patch\"},\"hover_glyph\":null,\"muted_glyph\":null,\"nonselection_glyph\":{\"id\":\"8780\",\"type\":\"Patch\"},\"selection_glyph\":null,\"view\":{\"id\":\"8782\",\"type\":\"CDSView\"}},\"id\":\"8781\",\"type\":\"GlyphRenderer\"},{\"attributes\":{\"callback\":null},\"id\":\"8747\",\"type\":\"DataRange1d\"},{\"attributes\":{\"bottom_units\":\"screen\",\"fill_alpha\":{\"value\":0.5},\"fill_color\":{\"value\":\"lightgrey\"},\"left_units\":\"screen\",\"level\":\"overlay\",\"line_alpha\":{\"value\":1.0},\"line_color\":{\"value\":\"black\"},\"line_dash\":[4,4],\"line_width\":{\"value\":2},\"render_mode\":\"css\",\"right_units\":\"screen\",\"top_units\":\"screen\"},\"id\":\"8789\",\"type\":\"BoxAnnotation\"},{\"attributes\":{\"callback\":null,\"data\":{},\"selected\":{\"id\":\"8839\",\"type\":\"Selection\"},\"selection_policy\":{\"id\":\"8838\",\"type\":\"UnionRenderers\"}},\"id\":\"8806\",\"type\":\"ColumnDataSource\"}],\"root_ids\":[\"8746\"]},\"title\":\"Bokeh Application\",\"version\":\"1.4.0\"}};\n",
       "  var render_items = [{\"docid\":\"e46bb0e8-20fe-494d-8c97-eac44c5b501f\",\"roots\":{\"8746\":\"320ce190-42b9-4f6b-ab1d-418cbf0f822f\"}}];\n",
       "  root.Bokeh.embed.embed_items_notebook(docs_json, render_items);\n",
       "\n",
       "  }\n",
       "  if (root.Bokeh !== undefined) {\n",
       "    embed_document(root);\n",
       "  } else {\n",
       "    var attempts = 0;\n",
       "    var timer = setInterval(function(root) {\n",
       "      if (root.Bokeh !== undefined) {\n",
       "        clearInterval(timer);\n",
       "        embed_document(root);\n",
       "      } else {\n",
       "        attempts++;\n",
       "        if (attempts > 100) {\n",
       "          clearInterval(timer);\n",
       "          console.log(\"Bokeh: ERROR: Unable to run BokehJS code because BokehJS library is missing\");\n",
       "        }\n",
       "      }\n",
       "    }, 10, root)\n",
       "  }\n",
       "})(window);"
      ],
      "application/vnd.bokehjs_exec.v0+json": ""
     },
     "metadata": {
      "application/vnd.bokehjs_exec.v0+json": {
       "id": "8746"
      }
     },
     "output_type": "display_data"
    }
   ],
   "source": [
    "# plot the ecdf\n",
    "p = bokeh_catplot.ecdf(\n",
    "    data=df,\n",
    "    cats=['labeled'],\n",
    "    val='time to catastrophe (s)',\n",
    "    conf_int=True,\n",
    "    style='staircase'\n",
    ")\n",
    "\n",
    "p.legend.location = 'bottom_right'\n",
    "p.legend.title = 'Labeled?'\n",
    "\n",
    "bokeh.io.show(p)"
   ]
  },
  {
   "cell_type": "markdown",
   "metadata": {},
   "source": [
    "There is a large degree of overlap in the 95% confidence intervals. This reinforces the hypothesis that labeling the microtubules does not affect their catastrophic behavior."
   ]
  },
  {
   "cell_type": "markdown",
   "metadata": {},
   "source": [
    "## Estimating the mean & median catastrophe time for labeled vs. unlabeled tubulin\n",
    "\n",
    "Visually, the distributions above appear very close. However, to further investigate whether there are notable differences not obvious in the ECDF, it would be useful to examine the mean and median for each case. In fact, it would be useful to estimate these values with confidence intervals as described above, to give a range of mean & median values for comparison. The reason for choosing to analyze both mean and median is that both give measures of the central tendency of the data. However, if there are outliers the mean may be significantly skewed by these outliers due to the fact that each point added to the mean is given equal weight, while the median is more stable.\n",
    "\n",
    "This will be done by writing a series of functions to randomly sample points from the data set, then calculate the mean & median for that sample. This is called \"bootstrapping\", as we are resampling the observed data to simulate a replicate experiment."
   ]
  },
  {
   "cell_type": "code",
   "execution_count": 14,
   "metadata": {},
   "outputs": [],
   "source": [
    "def draw_bs_sample(data):\n",
    "    \"\"\"Draw a bootstrap sample from a 1D data set.\"\"\"\n",
    "    return np.random.choice(data, size=len(data))\n",
    "\n",
    "def draw_bs_reps_mean(data, size=1):\n",
    "    \"\"\"Draw boostrap replicates of the mean from 1D data set.\"\"\"\n",
    "    out = np.empty(size)\n",
    "    for i in range(size):\n",
    "        out[i] = np.mean(draw_bs_sample(data))\n",
    "    return out\n",
    "\n",
    "def draw_bs_reps_median(data, size=1):\n",
    "    \"\"\"Draw boostrap replicates of the median from 1D data set.\"\"\"\n",
    "    out = np.empty(size)\n",
    "    for i in range(size):\n",
    "        out[i] = np.median(draw_bs_sample(data))\n",
    "    return out"
   ]
  },
  {
   "cell_type": "markdown",
   "metadata": {},
   "source": [
    "These functions were written by Justin Bois (\"Lesson 7: Introduction to the Bootstrap\", BeBi 103, Caltech).\n",
    "\n",
    "Now to generate the bootstrap sample of the mean for the datasets:"
   ]
  },
  {
   "cell_type": "code",
   "execution_count": 15,
   "metadata": {},
   "outputs": [],
   "source": [
    "#get the data for the labeled and unlabeled samples\n",
    "labeled_data   = df.loc[df['labeled'] == True,  'time to catastrophe (s)'].values\n",
    "unlabeled_data = df.loc[df['labeled'] == False, 'time to catastrophe (s)'].values\n",
    "\n",
    "# draw 1000 samples of the mean & median\n",
    "labeled_boot_mean   = draw_bs_reps_mean(labeled_data, size=10000)\n",
    "unlabeled_boot_mean = draw_bs_reps_mean(unlabeled_data, size=10000)\n",
    "\n",
    "labeled_boot_median   = draw_bs_reps_median(labeled_data, size=10000)\n",
    "unlabeled_boot_median = draw_bs_reps_median(unlabeled_data, size=10000)"
   ]
  },
  {
   "cell_type": "markdown",
   "metadata": {},
   "source": [
    "Now the numpy percentile function can be used to give the 95% confidence intervals for the means. This range of values lies between the 2.5 and 97.5 percentiles."
   ]
  },
  {
   "cell_type": "code",
   "execution_count": 16,
   "metadata": {},
   "outputs": [
    {
     "name": "stdout",
     "output_type": "stream",
     "text": [
      "95% confidence interval for mean time to catastrophe, labeled:\n",
      "[401.49170616 481.75533175]\n",
      "\n",
      "95% confidence interval for mean time to catastrophe, unlabeled:\n",
      "[353.68421053 476.63289474]\n"
     ]
    }
   ],
   "source": [
    "mean_conf_int_labeled   = np.percentile(labeled_boot_mean, [2.5, 97.5])\n",
    "mean_conf_int_unlabeled = np.percentile(unlabeled_boot_mean, [2.5, 97.5])\n",
    "\n",
    "print(\"95% confidence interval for mean time to catastrophe, labeled:\")\n",
    "print(mean_conf_int_labeled)\n",
    "print(\"\\n95% confidence interval for mean time to catastrophe, unlabeled:\")\n",
    "print(mean_conf_int_unlabeled)"
   ]
  },
  {
   "cell_type": "code",
   "execution_count": 17,
   "metadata": {},
   "outputs": [
    {
     "name": "stdout",
     "output_type": "stream",
     "text": [
      "95% confidence interval for median time to catastrophe, labeled:\n",
      "[325. 410.]\n",
      "\n",
      "95% confidence interval for median time to catastrophe, unlabeled:\n",
      "[280. 410.]\n"
     ]
    }
   ],
   "source": [
    "median_conf_int_labeled   = np.percentile(labeled_boot_median, [2.5, 97.5])\n",
    "median_conf_int_unlabeled = np.percentile(unlabeled_boot_median, [2.5, 97.5])\n",
    "\n",
    "print(\"95% confidence interval for median time to catastrophe, labeled:\")\n",
    "print(median_conf_int_labeled)\n",
    "print(\"\\n95% confidence interval for median time to catastrophe, unlabeled:\")\n",
    "print(median_conf_int_unlabeled)"
   ]
  },
  {
   "cell_type": "markdown",
   "metadata": {},
   "source": [
    "The 95% confidence intervals for the mean & median time to catastrophe are quite similar in their upper bounds, although the lower bounds for catastrophe time for unlabeled samples seem to be significantly lower. \n",
    "\n",
    "Based on this result, it is difficult to say whether labeling the tubulin with fluorophores affects the time to catastrophe. While the previously generated ECDF's showed many similarities between the two datasets, this metric indicates that there may be differences that are not visible."
   ]
  },
  {
   "cell_type": "markdown",
   "metadata": {},
   "source": [
    "## Testing the hypothesis\n",
    "\n",
    "Now that it is unclear whether the labeled vs. unlabeled tubulin are identically distributed, it will be useful to conduct a test of this theory to further investigate the potential differences. In particular, a Null Hypothesis Significance Test will indicate the probability that the test statistic (here we will test the distribution of the mean, median and variance) observed will be at least as extreme as that of the observed data. "
   ]
  },
  {
   "cell_type": "markdown",
   "metadata": {},
   "source": [
    "To test the hypothesis, we will use a permutation test; a common test to determine whether control and non-control samples come from the same distribution. This test works by merging both datasets, shuffling the data, and drawing random samples from the combined data to be labeled \"control\" and \"non-control\". If the results of this shuffling and sampling produce test statistics at least as extreme as those of the original data, it is likely that the hypothesis is true. \n",
    "\n",
    "There are 211 labeled samples and 95 unlabeled samples. These datasets will be merged into one array. Then, for every simulation, the list will be shuffled and separated into one 211-element array and another array consisting of the remaining 95 elements. \n",
    "\n",
    "From these shuffled and resampled arrays, the bootstrapping and estimation of the mean, median, and variance of each array will be conducted by taking 100 bootstrap samples. \n",
    "\n",
    "This procedure will be repeated many times to analyze the statistics of a large sample of bootstrapped values."
   ]
  },
  {
   "cell_type": "code",
   "execution_count": 20,
   "metadata": {},
   "outputs": [],
   "source": [
    "# store size of labeled, unlabeled datasets\n",
    "n = len(labeled_data)\n",
    "m = len(unlabeled_data)"
   ]
  },
  {
   "cell_type": "code",
   "execution_count": 23,
   "metadata": {},
   "outputs": [],
   "source": [
    "#concatenate lists\n",
    "combined_list = list(labeled_data) + list(unlabeled_data)"
   ]
  },
  {
   "cell_type": "code",
   "execution_count": 28,
   "metadata": {},
   "outputs": [],
   "source": [
    "def draw_bs_reps_all(data, size=100):\n",
    "    '''Performs [size] boostrap estimates of the mean, median, \n",
    "    and variance from 1D data set.\n",
    "    \n",
    "    Returns:\n",
    "    --------\n",
    "    (size x 1) arrays of bootstrap estimates of mean, median, variance.\n",
    "    '''\n",
    "    \n",
    "    #make an Nx3 array where the 3 columns stand for mean, median, and variance\n",
    "    mean = np.empty((size, 1))\n",
    "    median = np.empty((size, 1))\n",
    "    variance = np.empty((size, 1))\n",
    "    \n",
    "    for i in range(size):\n",
    "        \n",
    "        boot = draw_bs_sample(data)\n",
    "        \n",
    "        mean[i]     = np.mean(boot)\n",
    "        median[i]   = np.median(boot)\n",
    "        variance[i] = np.var(boot)\n",
    "        \n",
    "    return mean, median, variance"
   ]
  },
  {
   "cell_type": "code",
   "execution_count": 29,
   "metadata": {},
   "outputs": [],
   "source": [
    "def permutation_test(combo_list, len_labeled, len_unlabeled, num_trials, num_boots):\n",
    "    '''\n",
    "    For a combo_list which has both labeled (first) and unlabeled (second) trials, \n",
    "    this function performs the following tasks:\n",
    "    1. scramble the combo_list\n",
    "    2. break it into two sub-lists of lengths len_labeled and len_unlabeled\n",
    "    3. perform num_boots bootstraps of these sub-lists \n",
    "    4. obtain plug-in estimates for desired statistical functionals \n",
    "    5. repeat this procedure x num_trials\n",
    "\n",
    "    ** \"_l\" indicates labeled and \"_u\" indicates unlabeled**\n",
    "    \n",
    "    '''\n",
    "    \n",
    "    #create empty lists of size num_trials to fill with the individual plug-in estimates\n",
    "    out_list_mean_l   = num_trials * [None]\n",
    "    out_list_median_l = num_trials * [None]\n",
    "    out_list_var_l    = num_trials * [None]\n",
    "    out_list_mean_u   = num_trials * [None]\n",
    "    out_list_median_u = num_trials * [None]\n",
    "    out_list_var_u    = num_trials * [None]\n",
    "    \n",
    "    #begin the permutation test\n",
    "    \n",
    "    \n",
    "    for i in range(num_trials):\n",
    "        \n",
    "        print('Progress (%): ', str(((i+1)/num_trials) * 100) + \"\\r\", end=\"\")\n",
    "        \n",
    "        #scramble the input list\n",
    "        scramble_list = np.random.permutation(combo_list)\n",
    "        \n",
    "        # assign labeled, unlabeled\n",
    "        list_l = scramble_list[0 : len_labeled]\n",
    "        list_u = scramble_list[len_labeled+1 : len_labeled+len_unlabeled]\n",
    "        \n",
    "        #  call the bootstrap function\n",
    "        mean_l_list, median_l_list, var_l_list = draw_bs_reps_all(list_l, num_boots)\n",
    "        mean_u_list, median_u_list, var_u_list = draw_bs_reps_all(list_u, num_boots)\n",
    "        \n",
    "        #get the mean value of all the bootstrap simulations\n",
    "        mean_l   = np.mean(mean_l_list)\n",
    "        median_l = np.mean(median_l_list)\n",
    "        var_l    = np.mean(var_l_list)\n",
    "        \n",
    "        mean_u   = np.mean(mean_u_list)\n",
    "        median_u = np.mean(median_u_list)\n",
    "        var_u    = np.mean(var_u_list)\n",
    "        \n",
    "        #update all the relevant lists\n",
    "        out_list_mean_l[i]   = mean_l\n",
    "        out_list_median_l[i] = median_l\n",
    "        out_list_var_l[i]    = var_l\n",
    "        out_list_mean_u[i]   = mean_u\n",
    "        out_list_median_u[i] = median_u\n",
    "        out_list_var_u[i]    = var_u\n",
    "        \n",
    "    #package everything together\n",
    "    out_list_l = [out_list_mean_l, out_list_median_l, out_list_var_l]\n",
    "    out_list_u = [out_list_mean_u, out_list_median_u, out_list_var_u]\n",
    "    \n",
    "    return out_list_l, out_list_u\n",
    "        "
   ]
  },
  {
   "cell_type": "code",
   "execution_count": 27,
   "metadata": {},
   "outputs": [
    {
     "name": "stdout",
     "output_type": "stream",
     "text": [
      "Progress:  100.09999999999994\r"
     ]
    }
   ],
   "source": [
    "#now give me the results of 1000 permutation tests with 100 bootstrap replicates each\n",
    "stats_l, stats_u = permutation_test(combined_list, n, m, 1000, 100)\n",
    "\n",
    "#extract the information we care about\n",
    "means_l_perm   = stats_l[0]\n",
    "medians_l_perm = stats_l[1]\n",
    "vars_l_perm    = stats_l[2]\n",
    "means_u_perm   = stats_u[0]\n",
    "medians_u_perm = stats_u[1]\n",
    "vars_u_perm    = stats_u[2]"
   ]
  },
  {
   "cell_type": "markdown",
   "metadata": {},
   "source": [
    "\"stats_l\" and \"stats_u\" above contain 1000 trials of simulated data for the mean, median, and variance of the first 211 and last 95 samples of the scrambled array containing all of the data. Each trial also consisted of 100 bootstrap replicates for each array.\n",
    "\n",
    "To compute the probability that the mean, median, and variance observed in future replicate experiments will be at least as extreme as those values observed for the experimental data (given that the two datasets are identically distributed), we will calculate p-values.\n",
    "\n",
    "In calculating p-values we will define three test statistics: the difference in the means of the labeled (first 211) and unlabeled (last 95) sets; the difference in their medians; and the difference in their variances.\n",
    "\n",
    "The difference in the mean, median, and variance of the actual data will need to be calculated, and, for each trial, compared to see if the simulated test statistic is more extreme than that of the actual data.\n",
    "\n",
    "As an example, we define a parameter $\\theta$ to be the difference between the means of the two distributions, i.e. $\\theta = \\bar{L} - \\bar{U}$, where L is the set of the labeled tubulin data and U is that of the unlabeled tubulin data. Our null hypothesis is that the differences in means is due to other factors or stochasticity, and not due to the labeling of the tubulin. Thus, with scrambling the data, the estimated $\\theta$ should be at least as extreme as that of the experimental data. Our data set has $\\bar{L} = 441$ and $\\bar{U} = 413$, meaning that our experiment suggests that $\\theta$ is 28. \n",
    "\n",
    "We now have 1000 plug-in estimates for $\\theta$ picked out of our combined and scrambled array. Each of these plug-in estimates $\\hat{\\theta} = \\hat{\\bar{L}} - \\hat{\\bar{U}}$ can be compared to the actual experimental $\\theta$ of 28. Note that $\\hat{\\bar{L}}$ and $\\hat{\\bar{U}}$ indicate the simulated averages of the \"labeled\" and \"unlabeled\" data coming from the permutation test. \n",
    "\n",
    "The definition of the p-value is the fraction of instances the test statistic $\\hat{\\theta}$ is at least as extreme as the test statistic from the measured data (28 for the case of the mean). The number of times $\\hat{\\theta} > 28$, divided by the total number of simulations (1000), gives the p-value. The smaller the p-value, the less likely it is to observe our experimental value of 28 given that the null hypothesis is true. "
   ]
  },
  {
   "cell_type": "code",
   "execution_count": 38,
   "metadata": {},
   "outputs": [],
   "source": [
    "#now find the actual values, and the differences between labeled and unlabeled\n",
    "mean_l_actual      = np.mean(labeled_data)\n",
    "mean_u_actual      = np.mean(unlabeled_data)\n",
    "mean_diff_actual   = mean_l_actual - mean_u_actual\n",
    "\n",
    "median_l_actual    = np.median(labeled_data)\n",
    "median_u_actual    = np.median(unlabeled_data)\n",
    "median_diff_actual = median_l_actual - median_u_actual\n",
    "\n",
    "var_l_actual    = np.var(labeled_data)\n",
    "var_u_actual    = np.var(unlabeled_data)\n",
    "var_diff_actual = var_l_actual - var_u_actual\n",
    "\n",
    "#find the simulated differences\n",
    "mean_diff_sim   = np.array(means_l_perm) - np.array(means_u_perm)\n",
    "median_diff_sim = np.array(medians_l_perm) - np.array(medians_u_perm)\n",
    "var_diff_sim    = np.array(vars_l_perm) - np.array(vars_u_perm)"
   ]
  },
  {
   "cell_type": "code",
   "execution_count": 42,
   "metadata": {},
   "outputs": [],
   "source": [
    "def p_calc(exp_value, sim_values_list, extreme='>'):\n",
    "    '''\n",
    "    Parameters:\n",
    "    -----------\n",
    "    exp_value: test statistic calculated from experimental data\n",
    "    sim_values_list: list of simulated test statistic values\n",
    "    extreme: can be '>', '<', '<>', or '><' to indicate calculating the p-\n",
    "    value based on sim >= exp_value, sim <= exp_value, abs(sim) >= exp_value, or \n",
    "    abs(sim) <= exp_value.\n",
    "    \n",
    "    Returns:\n",
    "    --------\n",
    "    p_value: the calculated p-value for the simulated data\n",
    "    '''\n",
    "    \n",
    "    #initialize a counter for the number of times it is more extreme\n",
    "    p = 0\n",
    "    \n",
    "    if extreme == '>':\n",
    "        for sim in sim_values_list:\n",
    "            if sim >= exp_value:\n",
    "                p += 1\n",
    "    \n",
    "    elif extreme == '<':\n",
    "        for sim in sim_values_list:\n",
    "            if sim <= exp_value:\n",
    "                p += 1 \n",
    "                \n",
    "    elif extreme == '<>':\n",
    "        for sim in sim_values_list:\n",
    "            if abs(sim) >= abs(exp_value):\n",
    "                p += 1 \n",
    "\n",
    "    elif extreme == \"><\":\n",
    "        for sim in sim_values_list:\n",
    "            if abs(sim) <= abs(exp_value):\n",
    "                p += 1\n",
    "                \n",
    "    p_value = p / len(sim_values_list)\n",
    "    \n",
    "    return p_value"
   ]
  },
  {
   "cell_type": "code",
   "execution_count": 40,
   "metadata": {},
   "outputs": [],
   "source": [
    "p_mean   = p_calc(mean_diff_actual, mean_diff_sim)\n",
    "p_median = p_calc(median_diff_actual, median_diff_sim)\n",
    "p_var    = p_calc(var_diff_actual, var_diff_sim)"
   ]
  },
  {
   "cell_type": "code",
   "execution_count": 41,
   "metadata": {},
   "outputs": [
    {
     "name": "stdout",
     "output_type": "stream",
     "text": [
      "p-value for the difference of the means being greater than 28.184584684459935\n",
      "0.244\n",
      "\n",
      "p-value for the difference of the medians being greater than 5.0\n",
      "0.459\n",
      "\n",
      "p-value for the difference of the variances being greater than -5779.815300582399\n",
      "0.623\n"
     ]
    }
   ],
   "source": [
    "print(\"p-value for the difference of the means being greater than\", mean_diff_actual)\n",
    "print(p_mean)\n",
    "\n",
    "print(\"\\np-value for the difference of the medians being greater than\", median_diff_actual)\n",
    "print(p_median)\n",
    "\n",
    "print(\"\\np-value for the difference of the variances being greater than\", var_diff_actual)\n",
    "print(p_var)"
   ]
  },
  {
   "cell_type": "markdown",
   "metadata": {},
   "source": [
    "Here, the lowest p-value is that of the difference of the means, labeled - unlabeled. This value indicates that approximately 20-25% of the simulated differences of the means were more extreme than the experimental value of 28. Thus, the majority of the simulations did NOT observe a difference in the means of 28 or more, suggesting that a difference of 28 is not common. This might indicate that the labeled and unlabeled data come from different distributions. However, examining the p-value for the differences of the medians and variances, there are higher numbers, suggesting that the distributions may be identical.\n",
    "\n",
    "Based on the results of this test, it is difficult to reject the hypothesis that these labeled and unlabeled tubulin are identically distributed. While the evidence in favor of the hypothesis is not particularly strong, given the visual similarity of the distributions, it is still a reasonable assumption."
   ]
  },
  {
   "cell_type": "markdown",
   "metadata": {},
   "source": [
    "## Estimating the mean by the Central Limit Theorem\n",
    "\n",
    "Per the Central Limit Theorem, the mean of the data sets should be approximately normally distributed. Thus, by calculating the mean and standard deviations of the datasets, and using these parameters to sample from a normal distribution (with mean = experimental mean, and sigma = experimental sigma), a 95% confidence interval can be calculated for the mean values. This will be used for comparison of methods to the previously calculated means."
   ]
  },
  {
   "cell_type": "code",
   "execution_count": 44,
   "metadata": {},
   "outputs": [],
   "source": [
    "def mu_sigma2(data):\n",
    "    '''Computes the mean (mu) and standard deviation (sigma2) \n",
    "    for a data set inputted as a list.'''\n",
    "    \n",
    "    # compute the mean\n",
    "    mu = np.mean(data)\n",
    "    \n",
    "    # size of data\n",
    "    n = len(data)\n",
    "    \n",
    "    #initialize a running sum to keep track of the contribution for each (xi - mu)^2\n",
    "    running_sum = 0\n",
    "    \n",
    "    for x_i in data:\n",
    "        \n",
    "        square_diff = (x_i - mu) ** 2\n",
    "        running_sum += square_diff\n",
    "        \n",
    "    sigma2 = running_sum / (n * (n-1))\n",
    "    \n",
    "    return mu, sigma2"
   ]
  },
  {
   "cell_type": "code",
   "execution_count": 46,
   "metadata": {},
   "outputs": [
    {
     "name": "stdout",
     "output_type": "stream",
     "text": [
      "95% confidence interval for time to catastrophe, labeled:\n",
      "(400.74119602394774, 480.68060492391953)\n",
      "\n",
      "95% confidence interval for time to catastrophe, unlabeled:\n",
      "(350.83955128865745, 474.21308029028995)\n"
     ]
    }
   ],
   "source": [
    "#get the stats\n",
    "mu_l, sigma_l2 = mu_sigma2(labeled_data)\n",
    "mu_u, sigma_u2 = mu_sigma2(unlabeled_data)\n",
    "sigma_l = np.sqrt(sigma_l2)\n",
    "sigma_u = np.sqrt(sigma_u2)\n",
    "\n",
    "conf_int_l = stats.norm.interval(0.95, loc=mu_l, scale=sigma_l)\n",
    "conf_int_u = stats.norm.interval(0.95, loc=mu_u, scale=sigma_u)\n",
    "\n",
    "print(\"95% confidence interval for time to catastrophe, labeled:\")\n",
    "print(conf_int_l)\n",
    "print(\"\\n95% confidence interval for time to catastrophe, unlabeled:\")\n",
    "print(conf_int_u)"
   ]
  },
  {
   "cell_type": "markdown",
   "metadata": {},
   "source": [
    "In the previous calculation of the mean values, the confidence intervals were roughly (400, 480) for labeled and (355, 475) for unlabeled. These estimates are roughly the same."
   ]
  },
  {
   "cell_type": "markdown",
   "metadata": {},
   "source": [
    "## Revisiting the ECDF\n",
    "\n",
    "It is sometimes useful to obtain values of the ECDF at specific values of \"x\". The following function takes in a dataset, and a list of these specific values of \"x\", and returns the value of the ECDF corresponding to the x-values for plotting and analysis.\n",
    "\n",
    "The ECDF of an experimental variable y is the fraction of measurements from the data set that are lower than or equal to an individual measurement y (F(y)). \n",
    "\n",
    "Given a dataset, an ECDF \"function\", F(y), can be made by sorting the data list, and storing each value of the data list (\"y\") with its corresponding F(y) value.\n",
    "\n",
    "Thus, if given an array of x-values for which values of F(x) are needed, the highest y-value less than x can be found, and its corresponding F(y) value is returned.\n",
    "\n",
    "This logic is coded in the following function:"
   ]
  },
  {
   "cell_type": "code",
   "execution_count": 136,
   "metadata": {},
   "outputs": [],
   "source": [
    "def ecdf(x, data):\n",
    "    '''\n",
    "    Finds ecdf values corresponding to the values of x.\n",
    "    based on the data, then returns ecdf(xi) for all xi in the array x\n",
    "    '''\n",
    "    \n",
    "    # storing the size of the data\n",
    "    n = len(data)\n",
    "    \n",
    "    # presize arrays\n",
    "    F = np.empty([n, 2])\n",
    "    ecdf_vals = np.empty(len(x))\n",
    "    \n",
    "    # create ECDF \"function\"\n",
    "    F[:,0] = sorted(data)\n",
    "    F[:,1] = np.arange(1,n + 1) / n\n",
    "    \n",
    "    # work through data, obtaining values of F(x)\n",
    "    for j, xi in enumerate(x):\n",
    "            \n",
    "        #if xi is smaller than anything in the list, ECDF is 0\n",
    "        if (xi < F[0,0]):\n",
    "            value = 0\n",
    "\n",
    "        # if x > largest element in dataset then ECDF is 1\n",
    "        elif (xi >= F[-1,0]):\n",
    "            value = 1\n",
    "\n",
    "        # else find corresponding element\n",
    "        else: \n",
    "            row = 0\n",
    "            while xi > F[row,0]:\n",
    "                row += 1\n",
    "\n",
    "            value = F[row,1]\n",
    "        \n",
    "        ecdf_vals[j] = value\n",
    "    \n",
    "    return ecdf_vals"
   ]
  },
  {
   "cell_type": "markdown",
   "metadata": {},
   "source": [
    "To confirm the function is properly coded, it will be plotted for an array of \"x-values\" with the experimental data overlayed."
   ]
  },
  {
   "cell_type": "code",
   "execution_count": 137,
   "metadata": {},
   "outputs": [
    {
     "name": "stdout",
     "output_type": "stream",
     "text": [
      "1.0\n",
      "1.0\n"
     ]
    },
    {
     "data": {
      "text/html": [
       "\n",
       "\n",
       "\n",
       "\n",
       "\n",
       "\n",
       "  <div class=\"bk-root\" id=\"e02e994b-2c55-45f3-a410-50eabe461f7f\" data-root-id=\"9411\"></div>\n"
      ]
     },
     "metadata": {},
     "output_type": "display_data"
    },
    {
     "data": {
      "application/javascript": [
       "(function(root) {\n",
       "  function embed_document(root) {\n",
       "    \n",
       "  var docs_json = {\"d50a3673-9026-42c5-a6b9-18fae2c36aaf\":{\"roots\":{\"references\":[{\"attributes\":{\"below\":[{\"id\":\"9420\",\"type\":\"LinearAxis\"}],\"center\":[{\"id\":\"9424\",\"type\":\"Grid\"},{\"id\":\"9429\",\"type\":\"Grid\"}],\"left\":[{\"id\":\"9425\",\"type\":\"LinearAxis\"}],\"plot_height\":350,\"plot_width\":500,\"renderers\":[{\"id\":\"9446\",\"type\":\"GlyphRenderer\"},{\"id\":\"9451\",\"type\":\"GlyphRenderer\"}],\"title\":{\"id\":\"9793\",\"type\":\"Title\"},\"toolbar\":{\"id\":\"9436\",\"type\":\"Toolbar\"},\"x_range\":{\"id\":\"9412\",\"type\":\"DataRange1d\"},\"x_scale\":{\"id\":\"9416\",\"type\":\"LinearScale\"},\"y_range\":{\"id\":\"9414\",\"type\":\"DataRange1d\"},\"y_scale\":{\"id\":\"9418\",\"type\":\"LinearScale\"}},\"id\":\"9411\",\"subtype\":\"Figure\",\"type\":\"Plot\"},{\"attributes\":{},\"id\":\"9433\",\"type\":\"SaveTool\"},{\"attributes\":{\"text\":\"\"},\"id\":\"9793\",\"type\":\"Title\"},{\"attributes\":{},\"id\":\"9421\",\"type\":\"BasicTicker\"},{\"attributes\":{\"fill_alpha\":{\"value\":0.1},\"fill_color\":{\"value\":\"#1f77b4\"},\"line_alpha\":{\"value\":0.1},\"line_color\":{\"value\":\"#1f77b4\"},\"x\":{\"field\":\"x\"},\"y\":{\"field\":\"y\"}},\"id\":\"9445\",\"type\":\"Circle\"},{\"attributes\":{\"dimension\":1,\"ticker\":{\"id\":\"9426\",\"type\":\"BasicTicker\"}},\"id\":\"9429\",\"type\":\"Grid\"},{\"attributes\":{\"source\":{\"id\":\"9443\",\"type\":\"ColumnDataSource\"}},\"id\":\"9447\",\"type\":\"CDSView\"},{\"attributes\":{\"callback\":null,\"data\":{\"x\":{\"__ndarray__\":\"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\",\"dtype\":\"float64\",\"shape\":[211]},\"y\":{\"__ndarray__\":\"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\",\"dtype\":\"float64\",\"shape\":[211]}},\"selected\":{\"id\":\"9801\",\"type\":\"Selection\"},\"selection_policy\":{\"id\":\"9800\",\"type\":\"UnionRenderers\"}},\"id\":\"9443\",\"type\":\"ColumnDataSource\"},{\"attributes\":{},\"id\":\"9434\",\"type\":\"ResetTool\"},{\"attributes\":{\"ticker\":{\"id\":\"9421\",\"type\":\"BasicTicker\"}},\"id\":\"9424\",\"type\":\"Grid\"},{\"attributes\":{\"active_drag\":\"auto\",\"active_inspect\":\"auto\",\"active_multi\":null,\"active_scroll\":\"auto\",\"active_tap\":\"auto\",\"tools\":[{\"id\":\"9430\",\"type\":\"PanTool\"},{\"id\":\"9431\",\"type\":\"WheelZoomTool\"},{\"id\":\"9432\",\"type\":\"BoxZoomTool\"},{\"id\":\"9433\",\"type\":\"SaveTool\"},{\"id\":\"9434\",\"type\":\"ResetTool\"},{\"id\":\"9435\",\"type\":\"HelpTool\"}]},\"id\":\"9436\",\"type\":\"Toolbar\"},{\"attributes\":{},\"id\":\"9431\",\"type\":\"WheelZoomTool\"},{\"attributes\":{\"fill_color\":{\"value\":\"orange\"},\"line_color\":{\"value\":\"orange\"},\"size\":{\"units\":\"screen\",\"value\":1},\"x\":{\"field\":\"x\"},\"y\":{\"field\":\"y\"}},\"id\":\"9449\",\"type\":\"Circle\"},{\"attributes\":{},\"id\":\"9426\",\"type\":\"BasicTicker\"},{\"attributes\":{\"axis_label\":\"ECDF\",\"formatter\":{\"id\":\"9796\",\"type\":\"BasicTickFormatter\"},\"ticker\":{\"id\":\"9426\",\"type\":\"BasicTicker\"}},\"id\":\"9425\",\"type\":\"LinearAxis\"},{\"attributes\":{\"data_source\":{\"id\":\"9443\",\"type\":\"ColumnDataSource\"},\"glyph\":{\"id\":\"9444\",\"type\":\"Circle\"},\"hover_glyph\":null,\"muted_glyph\":null,\"nonselection_glyph\":{\"id\":\"9445\",\"type\":\"Circle\"},\"selection_glyph\":null,\"view\":{\"id\":\"9447\",\"type\":\"CDSView\"}},\"id\":\"9446\",\"type\":\"GlyphRenderer\"},{\"attributes\":{\"overlay\":{\"id\":\"9799\",\"type\":\"BoxAnnotation\"}},\"id\":\"9432\",\"type\":\"BoxZoomTool\"},{\"attributes\":{},\"id\":\"9796\",\"type\":\"BasicTickFormatter\"},{\"attributes\":{\"source\":{\"id\":\"9448\",\"type\":\"ColumnDataSource\"}},\"id\":\"9452\",\"type\":\"CDSView\"},{\"attributes\":{\"fill_alpha\":{\"value\":0.1},\"fill_color\":{\"value\":\"#1f77b4\"},\"line_alpha\":{\"value\":0.1},\"line_color\":{\"value\":\"#1f77b4\"},\"size\":{\"units\":\"screen\",\"value\":1},\"x\":{\"field\":\"x\"},\"y\":{\"field\":\"y\"}},\"id\":\"9450\",\"type\":\"Circle\"},{\"attributes\":{},\"id\":\"9800\",\"type\":\"UnionRenderers\"},{\"attributes\":{\"callback\":null,\"data\":{\"x\":{\"__ndarray__\":\"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\",\"dtype\":\"float64\",\"shape\":[1801]},\"y\":{\"__ndarray__\":\"AAAAAAAAAAAAAAAAAAAAAAAAAAAAAAAAAAAAAAAAAAAAAAAAAAAAAAAAAAAAAAAAAAAAAAAAAAAAAAAAAAAAAAAAAAAAAAAAAAAAAAAAAAAAAAAAAAAAAAAAAAAAAAAAAAAAAAAAAAAAAAAAAAAAAAAAAAAAAAAAAAAAAAAAAAAAAAAAAAAAAAAAAAAAAAAAAAAAAAAAAAAAAAAAAAAAAAAAAAAAAAAAAAAAAAAAAAAAAAAAAAAAAAAAAAAAAAAAAAAAAAAAAAAAAAAAAAAAAAAAAAAAAAAAAAAAAAAAAAAAAAAAAAAAAAAAAAAAAAAAAAAAAAAAAAAAAAAAAAAAAAAAAAAAAAAAAAAAAAAAAAAAAAAAAAAAAAAAAAAAAAAAAAAAAAAAAAAAAAAAAAAAAAAAAAAAAAAAAAAAAAAAAAAAAAAAAAAAAAAAAAAAAAAAAAAAAAAAAAAAAAAAAAAAAAAAAAAAAAAAAAAAAAAAAAAAAAAAAAAAAAAAAAAAAAAAAAAAAAAAAAAAAAAAAAAAAAAAAAAAAAAAAAAAAAAAAAAAAAAAAAAAAAAAAAAAAAAAAAAAAAAAAABIB97zjWlzP0gH3vONaYM/SAfe841pgz9IB97zjWmDP0gH3vONaYM/SAfe841pgz/rCs3tVB6NP+sKze1UHo0/6wrN7VQejT/rCs3tVB6NP+sKze1UHo0/GYnVcPFDmD8ZidVw8UOYPxmJ1XDxQ5g/GYnVcPFDmD8ZidVw8UOYPxmJ1XDxQ5g/GYnVcPFDmD8ZidVw8UOYPxmJ1XDxQ5g/GYnVcPFDmD/rCs3tVB6dP+sKze1UHp0/6wrN7VQenT/rCs3tVB6dP+sKze1UHp0/SAfe841poz9IB97zjWmjP0gH3vONaaM/SAfe841poz9IB97zjWmjP0gH3vONaaM/SAfe841poz9IB97zjWmjP0gH3vONaaM/SAfe841poz9IB97zjWmjP0gH3vONaaM/SAfe841poz9IB97zjWmjP0gH3vONaaM/GYnVcPFDqD8ZidVw8UOoPxmJ1XDxQ6g/GYnVcPFDqD8ZidVw8UOoPwJKUS8jsao/AkpRLyOxqj8CSlEvI7GqPwJKUS8jsao/AkpRLyOxqj/Uy0ishouvP9TLSKyGi68/1MtIrIaLrz/Uy0ishouvP9TLSKyGi68/1MtIrIaLrz/Uy0ishouvP9TLSKyGi68/1MtIrIaLrz/Uy0ishouvP19GYjVc/LA/X0ZiNVz8sD9fRmI1XPywP19GYjVc/LA/X0ZiNVz8sD+85xvTJqC0P7znG9MmoLQ/vOcb0yagtD+85xvTJqC0P7znG9MmoLQ/vOcb0yagtD+85xvTJqC0P7znG9MmoLQ/vOcb0yagtD+85xvTJqC0P6Wol5FYDbc/paiXkVgNtz+lqJeRWA23P6Wol5FYDbc/paiXkVgNtz93Ko8OvOe7P3cqjw6857s/dyqPDrznuz93Ko8OvOe7P3cqjw6857s/YOsKze1Uvj9g6wrN7VS+P2DrCs3tVL4/YOsKze1Uvj9g6wrN7VS+P2DrCs3tVL4/YOsKze1Uvj9g6wrN7VS+P2DrCs3tVL4/YOsKze1Uvj/Uy0ishou/P9TLSKyGi78/1MtIrIaLvz/Uy0ishou/P9TLSKyGi78/DRc/hEHOwj8NFz+EQc7CPw0XP4RBzsI/DRc/hEHOwj8NFz+EQc7CPw0XP4RBzsI/DRc/hEHOwj8NFz+EQc7CPw0XP4RBzsI/DRc/hEHOwj8NFz+EQc7CPw0XP4RBzsI/DRc/hEHOwj8NFz+EQc7CPw0XP4RBzsI/gvd8Y9oExD+C93xj2gTEP4L3fGPaBMQ/gvd8Y9oExD+C93xj2gTEP4L3fGPaBMQ/gvd8Y9oExD+C93xj2gTEP4L3fGPaBMQ/gvd8Y9oExD9ruPghDHLGP2u4+CEMcsY/a7j4IQxyxj9ruPghDHLGP2u4+CEMcsY/GYnVcPFDyD8ZidVw8UPIPxmJ1XDxQ8g/GYnVcPFDyD8ZidVw8UPIP8hZsr/WFco/yFmyv9YVyj/IWbK/1hXKP8hZsr/WFco/yFmyv9YVyj89OvCeb0zLPz068J5vTMs/PTrwnm9Myz89OvCeb0zLPz068J5vTMs/sRoufgiDzD+xGi5+CIPMP7EaLn4Ig8w/sRoufgiDzD+xGi5+CIPMP+sKze1UHs0/6wrN7VQezT/rCs3tVB7NP+sKze1UHs0/6wrN7VQezT9g6wrN7VTOP2DrCs3tVM4/YOsKze1Uzj9g6wrN7VTOP2DrCs3tVM4/1MtIrIaLzz/Uy0ishovPP9TLSKyGi88/1MtIrIaLzz/Uy0ishovPPyRWw8UPYdA/JFbDxQ9h0D8kVsPFD2HQPyRWw8UPYdA/JFbDxQ9h0D+ZNgGlqJfRP5k2AaWol9E/mTYBpaiX0T+ZNgGlqJfRP5k2AaWol9E/mTYBpaiX0T+ZNgGlqJfRP5k2AaWol9E/mTYBpaiX0T+ZNgGlqJfRP7au0NxO5dE/tq7Q3E7l0T+2rtDcTuXRP7au0NxO5dE/tq7Q3E7l0T/wnm9Mm4DSP/Ceb0ybgNI/8J5vTJuA0j/wnm9Mm4DSP/Ceb0ybgNI/SAfe841p0z9IB97zjWnTP0gH3vONadM/SAfe841p0z9IB97zjWnTP2V/rSs0t9M/ZX+tKzS30z9lf60rNLfTP2V/rSs0t9M/ZX+tKzS30z+fb0ybgFLUP59vTJuAUtQ/n29Mm4BS1D+fb0ybgFLUP59vTJuAUtQ/vOcb0yag1D+85xvTJqDUP7znG9MmoNQ/vOcb0yag1D+85xvTJqDUP7znG9MmoNQ/vOcb0yag1D+85xvTJqDUP7znG9MmoNQ/vOcb0yag1D8TUIp6GYnVPxNQinoZidU/E1CKehmJ1T8TUIp6GYnVPxNQinoZidU/MchZsr/W1T8xyFmyv9bVPzHIWbK/1tU/MchZsr/W1T8xyFmyv9bVP8IgZ8n+Wtc/wiBnyf5a1z/CIGfJ/lrXP8IgZ8n+Wtc/wiBnyf5a1z8ZidVw8UPYPxmJ1XDxQ9g/GYnVcPFD2D8ZidVw8UPYPxmJ1XDxQ9g/q+HihzDI2T+r4eKHMMjZP6vh4ocwyNk/q+HihzDI2T+r4eKHMMjZP8hZsr/WFdo/yFmyv9YV2j/IWbK/1hXaP8hZsr/WFdo/yFmyv9YV2j/l0YH3fGPaP+XRgfd8Y9o/5dGB93xj2j/l0YH3fGPaP+XRgfd8Y9o/IMIgZ8n+2j8gwiBnyf7aPyDCIGfJ/to/IMIgZ8n+2j8gwiBnyf7aPyDCIGfJ/to/IMIgZ8n+2j8gwiBnyf7aPyDCIGfJ/to/IMIgZ8n+2j8gwiBnyf7aPyDCIGfJ/to/IMIgZ8n+2j8gwiBnyf7aPyDCIGfJ/to/WrK/1hWa2z9asr/WFZrbP1qyv9YVmts/WrK/1hWa2z9asr/WFZrbP5SiXkZiNdw/lKJeRmI13D+Uol5GYjXcP5SiXkZiNdw/lKJeRmI13D/Okv21rtDcP86S/bWu0Nw/zpL9ta7Q3D/Okv21rtDcP86S/bWu0Nw/zpL9ta7Q3D/Okv21rtDcP86S/bWu0Nw/zpL9ta7Q3D/Okv21rtDcP2DrCs3tVN4/YOsKze1U3j9g6wrN7VTeP2DrCs3tVN4/YOsKze1U3j+a26k8OvDeP5rbqTw68N4/mtupPDrw3j+a26k8OvDeP5rbqTw68N4/t1N5dOA93z+3U3l04D3fP7dTeXTgPd8/t1N5dOA93z+3U3l04D3fP7dTeXTgPd8/t1N5dOA93z+3U3l04D3fP7dTeXTgPd8/t1N5dOA93z/xQxjkLNnfP/FDGOQs2d8/8UMY5CzZ3z/xQxjkLNnfP/FDGOQs2d8/FprbqTw64D8WmtupPDrgPxaa26k8OuA/FprbqTw64D8WmtupPDrgP0LOkv21ruA/Qs6S/bWu4D9CzpL9ta7gP0LOkv21ruA/Qs6S/bWu4D9CzpL9ta7gP0LOkv21ruA/Qs6S/bWu4D9CzpL9ta7gP0LOkv21ruA/X0ZiNVz84D9fRmI1XPzgP19GYjVc/OA/X0ZiNVz84D9fRmI1XPzgP3y+MW0CSuE/fL4xbQJK4T98vjFtAkrhP3y+MW0CSuE/fL4xbQJK4T+ZNgGlqJfhP5k2AaWol+E/mTYBpaiX4T+ZNgGlqJfhP5k2AaWol+E/tq7Q3E7l4T+2rtDcTuXhP7au0NxO5eE/tq7Q3E7l4T+2rtDcTuXhP9MmoBT1MuI/0yagFPUy4j/TJqAU9TLiP9MmoBT1MuI/0yagFPUy4j/TJqAU9TLiP9MmoBT1MuI/0yagFPUy4j/TJqAU9TLiP9MmoBT1MuI/4uKHMMhZ4j/i4ocwyFniP+LihzDIWeI/4uKHMMhZ4j/i4ocwyFniP/9aV2hup+I//1pXaG6n4j//WldobqfiP/9aV2hup+I//1pXaG6n4j8NFz+EQc7iPw0XP4RBzuI/DRc/hEHO4j8NFz+EQc7iPw0XP4RBzuI/HNMmoBT14j8c0yagFPXiPxzTJqAU9eI/HNMmoBT14j8c0yagFPXiPxzTJqAU9eI/HNMmoBT14j8c0yagFPXiPxzTJqAU9eI/HNMmoBT14j8qjw685xvjPyqPDrznG+M/Ko8OvOcb4z8qjw685xvjPyqPDrznG+M/SAfe841p4z9IB97zjWnjP0gH3vONaeM/SAfe841p4z9IB97zjWnjP1bDxQ9hkOM/VsPFD2GQ4z9Ww8UPYZDjP1bDxQ9hkOM/VsPFD2GQ4z9Ww8UPYZDjP1bDxQ9hkOM/VsPFD2GQ4z9Ww8UPYZDjP1bDxQ9hkOM/VsPFD2GQ4z9Ww8UPYZDjP1bDxQ9hkOM/VsPFD2GQ4z9Ww8UPYZDjP1bDxQ9hkOM/VsPFD2GQ4z9Ww8UPYZDjP1bDxQ9hkOM/VsPFD2GQ4z9zO5VHB97jP3M7lUcH3uM/czuVRwfe4z9zO5VHB97jP3M7lUcH3uM/gvd8Y9oE5D+C93xj2gTkP4L3fGPaBOQ/gvd8Y9oE5D+C93xj2gTkP5CzZH+tK+Q/kLNkf60r5D+Qs2R/rSvkP5CzZH+tK+Q/kLNkf60r5D+fb0ybgFLkP59vTJuAUuQ/n29Mm4BS5D+fb0ybgFLkP59vTJuAUuQ/n29Mm4BS5D+fb0ybgFLkP59vTJuAUuQ/n29Mm4BS5D+fb0ybgFLkP7znG9MmoOQ/vOcb0yag5D+85xvTJqDkP7znG9MmoOQ/vOcb0yag5D+85xvTJqDkP7znG9MmoOQ/vOcb0yag5D+85xvTJqDkP7znG9MmoOQ/6BvTJqAU5T/oG9MmoBTlP+gb0yagFOU/6BvTJqAU5T/oG9MmoBTlP/bXukJzO+U/9te6QnM75T/217pCczvlP/bXukJzO+U/9te6QnM75T8FlKJeRmLlPwWUol5GYuU/BZSiXkZi5T8FlKJeRmLlPwWUol5GYuU/BZSiXkZi5T8FlKJeRmLlPwWUol5GYuU/BZSiXkZi5T8FlKJeRmLlPyIMcpbsr+U/Igxyluyv5T8iDHKW7K/lPyIMcpbsr+U/Igxyluyv5T8/hEHOkv3lPz+EQc6S/eU/P4RBzpL95T8/hEHOkv3lPz+EQc6S/eU/TkAp6mUk5j9OQCnqZSTmP05AKeplJOY/TkAp6mUk5j9OQCnqZSTmP1z8EAY5S+Y/XPwQBjlL5j9c/BAGOUvmP1z8EAY5S+Y/XPwQBjlL5j95dOA935jmP3l04D3fmOY/eXTgPd+Y5j95dOA935jmP3l04D3fmOY/iDDIWbK/5j+IMMhZsr/mP4gwyFmyv+Y/iDDIWbK/5j+IMMhZsr/mP6Wol5FYDec/paiXkVgN5z+lqJeRWA3nP6Wol5FYDec/paiXkVgN5z+lqJeRWA3nP6Wol5FYDec/paiXkVgN5z+lqJeRWA3nP6Wol5FYDec/tGR/rSs05z+0ZH+tKzTnP7Rkf60rNOc/tGR/rSs05z+0ZH+tKzTnP7Rkf60rNOc/tGR/rSs05z+0ZH+tKzTnP7Rkf60rNOc/tGR/rSs05z+0ZH+tKzTnP7Rkf60rNOc/tGR/rSs05z+0ZH+tKzTnP7Rkf60rNOc/wiBnyf5a5z/CIGfJ/lrnP8IgZ8n+Wuc/wiBnyf5a5z/CIGfJ/lrnP8IgZ8n+Wuc/wiBnyf5a5z/CIGfJ/lrnP8IgZ8n+Wuc/wiBnyf5a5z/fmDYBpajnP9+YNgGlqOc/35g2AaWo5z/fmDYBpajnP9+YNgGlqOc/35g2AaWo5z/fmDYBpajnP9+YNgGlqOc/35g2AaWo5z/fmDYBpajnP+5UHh14z+c/7lQeHXjP5z/uVB4deM/nP+5UHh14z+c/7lQeHXjP5z8ZidVw8UPoPxmJ1XDxQ+g/GYnVcPFD6D8ZidVw8UPoPxmJ1XDxQ+g/Rb2MxGq46D9FvYzEarjoP0W9jMRquOg/Rb2MxGq46D9FvYzEarjoP1R5dOA93+g/VHl04D3f6D9UeXTgPd/oP1R5dOA93+g/VHl04D3f6D9UeXTgPd/oP1R5dOA93+g/VHl04D3f6D9UeXTgPd/oP1R5dOA93+g/YjVc/BAG6T9iNVz8EAbpP2I1XPwQBuk/YjVc/BAG6T9iNVz8EAbpP3HxQxjkLOk/cfFDGOQs6T9x8UMY5CzpP3HxQxjkLOk/cfFDGOQs6T9x8UMY5CzpP3HxQxjkLOk/cfFDGOQs6T9x8UMY5CzpP3HxQxjkLOk/jmkTUIp66T+OaRNQinrpP45pE1CKeuk/jmkTUIp66T+OaRNQinrpP7qdyqMD7+k/up3KowPv6T+6ncqjA+/pP7qdyqMD7+k/up3KowPv6T+6ncqjA+/pP7qdyqMD7+k/up3KowPv6T+6ncqjA+/pP7qdyqMD7+k/1xWa26k86j/XFZrbqTzqP9cVmtupPOo/1xWa26k86j/XFZrbqTzqP9cVmtupPOo/1xWa26k86j/XFZrbqTzqP9cVmtupPOo/1xWa26k86j/l0YH3fGPqP+XRgfd8Y+o/5dGB93xj6j/l0YH3fGPqP+XRgfd8Y+o/9I1pE1CK6j/0jWkTUIrqP/SNaRNQiuo/9I1pE1CK6j/0jWkTUIrqPwJKUS8jseo/AkpRLyOx6j8CSlEvI7HqPwJKUS8jseo/AkpRLyOx6j8RBjlL9tfqPxEGOUv21+o/EQY5S/bX6j8RBjlL9tfqPxEGOUv21+o/IMIgZ8n+6j8gwiBnyf7qPyDCIGfJ/uo/IMIgZ8n+6j8gwiBnyf7qPyDCIGfJ/uo/IMIgZ8n+6j8gwiBnyf7qPyDCIGfJ/uo/IMIgZ8n+6j8gwiBnyf7qPyDCIGfJ/uo/IMIgZ8n+6j8gwiBnyf7qPyDCIGfJ/uo/IMIgZ8n+6j8gwiBnyf7qPyDCIGfJ/uo/IMIgZ8n+6j8gwiBnyf7qPyDCIGfJ/uo/IMIgZ8n+6j8gwiBnyf7qPyDCIGfJ/uo/IMIgZ8n+6j89OvCeb0zrPz068J5vTOs/PTrwnm9M6z89OvCeb0zrPz068J5vTOs/S/bXukJz6z9L9te6QnPrP0v217pCc+s/S/bXukJz6z9L9te6QnPrP0v217pCc+s/S/bXukJz6z9L9te6QnPrP0v217pCc+s/S/bXukJz6z9L9te6QnPrP0v217pCc+s/S/bXukJz6z9L9te6QnPrP0v217pCc+s/S/bXukJz6z9L9te6QnPrP0v217pCc+s/S/bXukJz6z9L9te6QnPrP0v217pCc+s/S/bXukJz6z9L9te6QnPrP0v217pCc+s/S/bXukJz6z9asr/WFZrrP1qyv9YVmus/WrK/1hWa6z9asr/WFZrrP1qyv9YVmus/WrK/1hWa6z9asr/WFZrrP1qyv9YVmus/WrK/1hWa6z9asr/WFZrrP3cqjw685+s/dyqPDrzn6z93Ko8OvOfrP3cqjw685+s/dyqPDrzn6z93Ko8OvOfrP3cqjw685+s/dyqPDrzn6z93Ko8OvOfrP3cqjw685+s/dyqPDrzn6z93Ko8OvOfrP3cqjw685+s/dyqPDrzn6z93Ko8OvOfrP3cqjw685+s/dyqPDrzn6z93Ko8OvOfrP3cqjw685+s/dyqPDrzn6z+F5nYqjw7sP4XmdiqPDuw/heZ2Ko8O7D+F5nYqjw7sP4XmdiqPDuw/o15GYjVc7D+jXkZiNVzsP6NeRmI1XOw/o15GYjVc7D+jXkZiNVzsP6NeRmI1XOw/o15GYjVc7D+jXkZiNVzsP6NeRmI1XOw/o15GYjVc7D+jXkZiNVzsP6NeRmI1XOw/o15GYjVc7D+jXkZiNVzsP6NeRmI1XOw/o15GYjVc7D+jXkZiNVzsP6NeRmI1XOw/o15GYjVc7D+jXkZiNVzsP6NeRmI1XOw/o15GYjVc7D+jXkZiNVzsP6NeRmI1XOw/o15GYjVc7D+jXkZiNVzsP6NeRmI1XOw/o15GYjVc7D+jXkZiNVzsP6NeRmI1XOw/wNYVmtup7D/A1hWa26nsP8DWFZrbqew/wNYVmtup7D/A1hWa26nsP8DWFZrbqew/wNYVmtup7D/A1hWa26nsP8DWFZrbqew/wNYVmtup7D/A1hWa26nsP8DWFZrbqew/wNYVmtup7D/A1hWa26nsP8DWFZrbqew/wNYVmtup7D/A1hWa26nsP8DWFZrbqew/wNYVmtup7D/A1hWa26nsP86S/bWu0Ow/zpL9ta7Q7D/Okv21rtDsP86S/bWu0Ow/zpL9ta7Q7D/Okv21rtDsP86S/bWu0Ow/zpL9ta7Q7D/Okv21rtDsP86S/bWu0Ow/zpL9ta7Q7D/Okv21rtDsP86S/bWu0Ow/zpL9ta7Q7D/Okv21rtDsP91O5dGB9+w/3U7l0YH37D/dTuXRgffsP91O5dGB9+w/3U7l0YH37D/dTuXRgffsP91O5dGB9+w/3U7l0YH37D/dTuXRgffsP91O5dGB9+w/3U7l0YH37D/dTuXRgffsP91O5dGB9+w/3U7l0YH37D/dTuXRgffsP+sKze1UHu0/6wrN7VQe7T/rCs3tVB7tP+sKze1UHu0/6wrN7VQe7T/rCs3tVB7tP+sKze1UHu0/6wrN7VQe7T/rCs3tVB7tP+sKze1UHu0/CIOcJftr7T8Ig5wl+2vtPwiDnCX7a+0/CIOcJftr7T8Ig5wl+2vtPwiDnCX7a+0/CIOcJftr7T8Ig5wl+2vtPwiDnCX7a+0/CIOcJftr7T8Ig5wl+2vtPwiDnCX7a+0/CIOcJftr7T8Ig5wl+2vtPwiDnCX7a+0/Fz+EQc6S7T8XP4RBzpLtPxc/hEHOku0/Fz+EQc6S7T8XP4RBzpLtPxc/hEHOku0/Fz+EQc6S7T8XP4RBzpLtPxc/hEHOku0/Fz+EQc6S7T80t1N5dODtPzS3U3l04O0/NLdTeXTg7T80t1N5dODtPzS3U3l04O0/Q3M7lUcH7j9DczuVRwfuP0NzO5VHB+4/Q3M7lUcH7j9DczuVRwfuP0NzO5VHB+4/Q3M7lUcH7j9DczuVRwfuP0NzO5VHB+4/Q3M7lUcH7j9DczuVRwfuP0NzO5VHB+4/Q3M7lUcH7j9DczuVRwfuP0NzO5VHB+4/Q3M7lUcH7j9DczuVRwfuP0NzO5VHB+4/Q3M7lUcH7j9DczuVRwfuP1EvI7EaLu4/US8jsRou7j9RLyOxGi7uP1EvI7EaLu4/US8jsRou7j9RLyOxGi7uP1EvI7EaLu4/US8jsRou7j9RLyOxGi7uP1EvI7EaLu4/US8jsRou7j9RLyOxGi7uP1EvI7EaLu4/US8jsRou7j9RLyOxGi7uP1EvI7EaLu4/US8jsRou7j9RLyOxGi7uP1EvI7EaLu4/US8jsRou7j9RLyOxGi7uP1EvI7EaLu4/US8jsRou7j9RLyOxGi7uP1EvI7EaLu4/US8jsRou7j9RLyOxGi7uP1EvI7EaLu4/US8jsRou7j9RLyOxGi7uP1EvI7EaLu4/US8jsRou7j9RLyOxGi7uP1EvI7EaLu4/US8jsRou7j9RLyOxGi7uP1EvI7EaLu4/US8jsRou7j9RLyOxGi7uP1EvI7EaLu4/US8jsRou7j9RLyOxGi7uP1EvI7EaLu4/US8jsRou7j9RLyOxGi7uP2DrCs3tVO4/YOsKze1U7j9g6wrN7VTuP2DrCs3tVO4/YOsKze1U7j9g6wrN7VTuP2DrCs3tVO4/YOsKze1U7j9g6wrN7VTuP2DrCs3tVO4/YOsKze1U7j9g6wrN7VTuP2DrCs3tVO4/YOsKze1U7j9g6wrN7VTuP2DrCs3tVO4/YOsKze1U7j9g6wrN7VTuP2DrCs3tVO4/YOsKze1U7j9g6wrN7VTuP2DrCs3tVO4/YOsKze1U7j9g6wrN7VTuP2DrCs3tVO4/bqfy6MB77j9up/LowHvuP26n8ujAe+4/bqfy6MB77j9up/LowHvuP26n8ujAe+4/bqfy6MB77j9up/LowHvuP26n8ujAe+4/bqfy6MB77j9up/LowHvuP26n8ujAe+4/bqfy6MB77j9up/LowHvuP26n8ujAe+4/bqfy6MB77j9up/LowHvuP26n8ujAe+4/bqfy6MB77j9up/LowHvuP31j2gSUou4/fWPaBJSi7j99Y9oElKLuP31j2gSUou4/fWPaBJSi7j99Y9oElKLuP31j2gSUou4/fWPaBJSi7j99Y9oElKLuP31j2gSUou4/jB/CIGfJ7j+MH8IgZ8nuP4wfwiBnye4/jB/CIGfJ7j+MH8IgZ8nuP4wfwiBnye4/jB/CIGfJ7j+MH8IgZ8nuP4wfwiBnye4/jB/CIGfJ7j+MH8IgZ8nuP4wfwiBnye4/jB/CIGfJ7j+MH8IgZ8nuP4wfwiBnye4/jB/CIGfJ7j+MH8IgZ8nuP4wfwiBnye4/jB/CIGfJ7j+MH8IgZ8nuP5rbqTw68O4/mtupPDrw7j+a26k8OvDuP5rbqTw68O4/mtupPDrw7j+a26k8OvDuP5rbqTw68O4/mtupPDrw7j+a26k8OvDuP5rbqTw68O4/mtupPDrw7j+a26k8OvDuP5rbqTw68O4/mtupPDrw7j+a26k8OvDuP5rbqTw68O4/mtupPDrw7j+a26k8OvDuP5rbqTw68O4/mtupPDrw7j+a26k8OvDuP5rbqTw68O4/mtupPDrw7j+a26k8OvDuP5rbqTw68O4/mtupPDrw7j+a26k8OvDuP5rbqTw68O4/mtupPDrw7j+a26k8OvDuP5rbqTw68O4/mtupPDrw7j+a26k8OvDuP5rbqTw68O4/mtupPDrw7j+a26k8OvDuP5rbqTw68O4/mtupPDrw7j+a26k8OvDuP5rbqTw68O4/mtupPDrw7j+a26k8OvDuP5rbqTw68O4/mtupPDrw7j+a26k8OvDuP5rbqTw68O4/mtupPDrw7j+a26k8OvDuP5rbqTw68O4/mtupPDrw7j+a26k8OvDuP5rbqTw68O4/mtupPDrw7j+a26k8OvDuP5rbqTw68O4/mtupPDrw7j+a26k8OvDuP5rbqTw68O4/mtupPDrw7j+a26k8OvDuP5rbqTw68O4/mtupPDrw7j+a26k8OvDuP5rbqTw68O4/mtupPDrw7j+pl5FYDRfvP6mXkVgNF+8/qZeRWA0X7z+pl5FYDRfvP6mXkVgNF+8/qZeRWA0X7z+pl5FYDRfvP6mXkVgNF+8/qZeRWA0X7z+pl5FYDRfvP7dTeXTgPe8/t1N5dOA97z+3U3l04D3vP7dTeXTgPe8/t1N5dOA97z+3U3l04D3vP7dTeXTgPe8/t1N5dOA97z+3U3l04D3vP7dTeXTgPe8/t1N5dOA97z+3U3l04D3vP7dTeXTgPe8/t1N5dOA97z+3U3l04D3vP7dTeXTgPe8/t1N5dOA97z+3U3l04D3vP7dTeXTgPe8/t1N5dOA97z+3U3l04D3vP7dTeXTgPe8/t1N5dOA97z+3U3l04D3vP7dTeXTgPe8/t1N5dOA97z+3U3l04D3vP7dTeXTgPe8/t1N5dOA97z+3U3l04D3vP7dTeXTgPe8/t1N5dOA97z+3U3l04D3vP7dTeXTgPe8/t1N5dOA97z+3U3l04D3vP7dTeXTgPe8/t1N5dOA97z+3U3l04D3vP7dTeXTgPe8/t1N5dOA97z+3U3l04D3vP7dTeXTgPe8/t1N5dOA97z+3U3l04D3vP7dTeXTgPe8/t1N5dOA97z+3U3l04D3vP7dTeXTgPe8/t1N5dOA97z+3U3l04D3vP7dTeXTgPe8/t1N5dOA97z+3U3l04D3vP7dTeXTgPe8/t1N5dOA97z+3U3l04D3vP7dTeXTgPe8/t1N5dOA97z+3U3l04D3vP7dTeXTgPe8/t1N5dOA97z+3U3l04D3vP7dTeXTgPe8/t1N5dOA97z+3U3l04D3vP7dTeXTgPe8/t1N5dOA97z+3U3l04D3vP7dTeXTgPe8/t1N5dOA97z+3U3l04D3vP7dTeXTgPe8/t1N5dOA97z+3U3l04D3vP8YPYZCzZO8/xg9hkLNk7z/GD2GQs2TvP8YPYZCzZO8/xg9hkLNk7z/GD2GQs2TvP8YPYZCzZO8/xg9hkLNk7z/GD2GQs2TvP8YPYZCzZO8/xg9hkLNk7z/GD2GQs2TvP8YPYZCzZO8/xg9hkLNk7z/GD2GQs2TvP8YPYZCzZO8/xg9hkLNk7z/GD2GQs2TvP8YPYZCzZO8/xg9hkLNk7z/GD2GQs2TvP8YPYZCzZO8/xg9hkLNk7z/GD2GQs2TvP8YPYZCzZO8/xg9hkLNk7z/GD2GQs2TvP8YPYZCzZO8/xg9hkLNk7z/GD2GQs2TvP8YPYZCzZO8/xg9hkLNk7z/GD2GQs2TvP8YPYZCzZO8/xg9hkLNk7z/GD2GQs2TvP8YPYZCzZO8/xg9hkLNk7z/GD2GQs2TvP8YPYZCzZO8/xg9hkLNk7z/GD2GQs2TvP8YPYZCzZO8/xg9hkLNk7z/GD2GQs2TvP8YPYZCzZO8/xg9hkLNk7z/GD2GQs2TvP8YPYZCzZO8/xg9hkLNk7z/GD2GQs2TvP8YPYZCzZO8/xg9hkLNk7z/GD2GQs2TvP8YPYZCzZO8/xg9hkLNk7z/GD2GQs2TvP8YPYZCzZO8/xg9hkLNk7z/GD2GQs2TvP8YPYZCzZO8/xg9hkLNk7z/GD2GQs2TvP8YPYZCzZO8/xg9hkLNk7z/GD2GQs2TvP8YPYZCzZO8/xg9hkLNk7z/GD2GQs2TvP8YPYZCzZO8/xg9hkLNk7z/GD2GQs2TvP8YPYZCzZO8/xg9hkLNk7z/GD2GQs2TvP8YPYZCzZO8/xg9hkLNk7z/GD2GQs2TvP8YPYZCzZO8/xg9hkLNk7z/GD2GQs2TvP8YPYZCzZO8/xg9hkLNk7z/GD2GQs2TvP8YPYZCzZO8/xg9hkLNk7z/GD2GQs2TvP8YPYZCzZO8/xg9hkLNk7z/GD2GQs2TvP8YPYZCzZO8/xg9hkLNk7z/GD2GQs2TvP8YPYZCzZO8/xg9hkLNk7z/GD2GQs2TvP8YPYZCzZO8/xg9hkLNk7z/GD2GQs2TvP8YPYZCzZO8/xg9hkLNk7z/GD2GQs2TvP8YPYZCzZO8/xg9hkLNk7z/GD2GQs2TvP8YPYZCzZO8/xg9hkLNk7z/GD2GQs2TvP8YPYZCzZO8/xg9hkLNk7z/GD2GQs2TvP8YPYZCzZO8/xg9hkLNk7z/GD2GQs2TvP8YPYZCzZO8/xg9hkLNk7z/GD2GQs2TvP8YPYZCzZO8/xg9hkLNk7z/GD2GQs2TvP8YPYZCzZO8/xg9hkLNk7z/GD2GQs2TvP8YPYZCzZO8/xg9hkLNk7z/GD2GQs2TvP8YPYZCzZO8/xg9hkLNk7z/GD2GQs2TvP8YPYZCzZO8/xg9hkLNk7z/GD2GQs2TvP8YPYZCzZO8/xg9hkLNk7z/GD2GQs2TvP8YPYZCzZO8/xg9hkLNk7z/GD2GQs2TvP8YPYZCzZO8/xg9hkLNk7z/GD2GQs2TvP8YPYZCzZO8/xg9hkLNk7z/GD2GQs2TvP8YPYZCzZO8/xg9hkLNk7z/GD2GQs2TvP8YPYZCzZO8/xg9hkLNk7z/GD2GQs2TvP8YPYZCzZO8/xg9hkLNk7z/GD2GQs2TvP8YPYZCzZO8/xg9hkLNk7z/GD2GQs2TvP8YPYZCzZO8/xg9hkLNk7z/GD2GQs2TvP8YPYZCzZO8/xg9hkLNk7z/GD2GQs2TvP8YPYZCzZO8/xg9hkLNk7z/GD2GQs2TvP8YPYZCzZO8/xg9hkLNk7z/GD2GQs2TvP8YPYZCzZO8/xg9hkLNk7z/GD2GQs2TvP8YPYZCzZO8/xg9hkLNk7z/GD2GQs2TvP8YPYZCzZO8/xg9hkLNk7z/GD2GQs2TvP8YPYZCzZO8/xg9hkLNk7z/GD2GQs2TvP8YPYZCzZO8/xg9hkLNk7z/GD2GQs2TvP8YPYZCzZO8/xg9hkLNk7z/GD2GQs2TvP8YPYZCzZO8/xg9hkLNk7z/GD2GQs2TvP8YPYZCzZO8/xg9hkLNk7z/GD2GQs2TvP8YPYZCzZO8/xg9hkLNk7z/GD2GQs2TvP8YPYZCzZO8/xg9hkLNk7z/GD2GQs2TvP8YPYZCzZO8/xg9hkLNk7z/GD2GQs2TvP8YPYZCzZO8/xg9hkLNk7z/GD2GQs2TvP8YPYZCzZO8/1MtIrIaL7z/Uy0ishovvP9TLSKyGi+8/1MtIrIaL7z/Uy0ishovvP9TLSKyGi+8/1MtIrIaL7z/Uy0ishovvP9TLSKyGi+8/1MtIrIaL7z/Uy0ishovvP9TLSKyGi+8/1MtIrIaL7z/Uy0ishovvP9TLSKyGi+8/1MtIrIaL7z/Uy0ishovvP9TLSKyGi+8/1MtIrIaL7z/Uy0ishovvP9TLSKyGi+8/1MtIrIaL7z/Uy0ishovvP9TLSKyGi+8/1MtIrIaL7z/Uy0ishovvP9TLSKyGi+8/1MtIrIaL7z/Uy0ishovvP9TLSKyGi+8/44cwyFmy7z/jhzDIWbLvP+OHMMhZsu8/44cwyFmy7z/jhzDIWbLvP+OHMMhZsu8/44cwyFmy7z/jhzDIWbLvP+OHMMhZsu8/44cwyFmy7z/xQxjkLNnvP/FDGOQs2e8/8UMY5CzZ7z/xQxjkLNnvP/FDGOQs2e8/8UMY5CzZ7z/xQxjkLNnvP/FDGOQs2e8/8UMY5CzZ7z/xQxjkLNnvP/FDGOQs2e8/8UMY5CzZ7z/xQxjkLNnvP/FDGOQs2e8/8UMY5CzZ7z/xQxjkLNnvP/FDGOQs2e8/8UMY5CzZ7z/xQxjkLNnvP/FDGOQs2e8/8UMY5CzZ7z/xQxjkLNnvP/FDGOQs2e8/8UMY5CzZ7z/xQxjkLNnvP/FDGOQs2e8/8UMY5CzZ7z/xQxjkLNnvP/FDGOQs2e8/8UMY5CzZ7z/xQxjkLNnvP/FDGOQs2e8/8UMY5CzZ7z/xQxjkLNnvP/FDGOQs2e8/8UMY5CzZ7z/xQxjkLNnvP/FDGOQs2e8/8UMY5CzZ7z/xQxjkLNnvP/FDGOQs2e8/8UMY5CzZ7z/xQxjkLNnvP/FDGOQs2e8/8UMY5CzZ7z/xQxjkLNnvP/FDGOQs2e8/8UMY5CzZ7z/xQxjkLNnvP/FDGOQs2e8/8UMY5CzZ7z/xQxjkLNnvP/FDGOQs2e8/8UMY5CzZ7z/xQxjkLNnvP/FDGOQs2e8/8UMY5CzZ7z/xQxjkLNnvP/FDGOQs2e8/8UMY5CzZ7z/xQxjkLNnvP/FDGOQs2e8/8UMY5CzZ7z/xQxjkLNnvP/FDGOQs2e8/8UMY5CzZ7z/xQxjkLNnvP/FDGOQs2e8/8UMY5CzZ7z/xQxjkLNnvP/FDGOQs2e8/8UMY5CzZ7z/xQxjkLNnvP/FDGOQs2e8/8UMY5CzZ7z/xQxjkLNnvP/FDGOQs2e8/8UMY5CzZ7z/xQxjkLNnvP/FDGOQs2e8/8UMY5CzZ7z/xQxjkLNnvP/FDGOQs2e8/8UMY5CzZ7z/xQxjkLNnvP/FDGOQs2e8/8UMY5CzZ7z/xQxjkLNnvP/FDGOQs2e8/8UMY5CzZ7z/xQxjkLNnvP/FDGOQs2e8/8UMY5CzZ7z/xQxjkLNnvP/FDGOQs2e8/8UMY5CzZ7z/xQxjkLNnvP/FDGOQs2e8/8UMY5CzZ7z/xQxjkLNnvP/FDGOQs2e8/8UMY5CzZ7z/xQxjkLNnvP/FDGOQs2e8/8UMY5CzZ7z8AAAAAAADwPwAAAAAAAPA/AAAAAAAA8D8AAAAAAADwPwAAAAAAAPA/AAAAAAAA8D8AAAAAAADwPwAAAAAAAPA/AAAAAAAA8D8AAAAAAADwPwAAAAAAAPA/AAAAAAAA8D8AAAAAAADwPwAAAAAAAPA/AAAAAAAA8D8AAAAAAADwPwAAAAAAAPA/AAAAAAAA8D8AAAAAAADwPwAAAAAAAPA/AAAAAAAA8D8AAAAAAADwPwAAAAAAAPA/AAAAAAAA8D8AAAAAAADwPwAAAAAAAPA/AAAAAAAA8D8AAAAAAADwPwAAAAAAAPA/AAAAAAAA8D8AAAAAAADwPwAAAAAAAPA/AAAAAAAA8D8AAAAAAADwPwAAAAAAAPA/AAAAAAAA8D8AAAAAAADwPwAAAAAAAPA/AAAAAAAA8D8AAAAAAADwPwAAAAAAAPA/AAAAAAAA8D8AAAAAAADwPwAAAAAAAPA/AAAAAAAA8D8AAAAAAADwPwAAAAAAAPA/AAAAAAAA8D8AAAAAAADwPwAAAAAAAPA/AAAAAAAA8D8AAAAAAADwPwAAAAAAAPA/AAAAAAAA8D8AAAAAAADwPwAAAAAAAPA/AAAAAAAA8D8AAAAAAADwPwAAAAAAAPA/AAAAAAAA8D8AAAAAAADwPwAAAAAAAPA/AAAAAAAA8D8AAAAAAADwPwAAAAAAAPA/AAAAAAAA8D8AAAAAAADwPwAAAAAAAPA/AAAAAAAA8D8AAAAAAADwPwAAAAAAAPA/AAAAAAAA8D8AAAAAAADwPwAAAAAAAPA/AAAAAAAA8D8AAAAAAADwPwAAAAAAAPA/AAAAAAAA8D8AAAAAAADwPwAAAAAAAPA/AAAAAAAA8D8AAAAAAADwPwAAAAAAAPA/AAAAAAAA8D8AAAAAAADwPwAAAAAAAPA/AAAAAAAA8D8AAAAAAADwPwAAAAAAAPA/AAAAAAAA8D8AAAAAAADwPwAAAAAAAPA/AAAAAAAA8D8AAAAAAADwPwAAAAAAAPA/AAAAAAAA8D8AAAAAAADwPwAAAAAAAPA/AAAAAAAA8D8AAAAAAADwPwAAAAAAAPA/AAAAAAAA8D8AAAAAAADwPwAAAAAAAPA/AAAAAAAA8D8AAAAAAADwPwAAAAAAAPA/AAAAAAAA8D8AAAAAAADwPwAAAAAAAPA/AAAAAAAA8D8AAAAAAADwPwAAAAAAAPA/AAAAAAAA8D8AAAAAAADwPwAAAAAAAPA/AAAAAAAA8D8AAAAAAADwPwAAAAAAAPA/AAAAAAAA8D8AAAAAAADwPwAAAAAAAPA/AAAAAAAA8D8AAAAAAADwPwAAAAAAAPA/AAAAAAAA8D8AAAAAAADwPwAAAAAAAPA/AAAAAAAA8D8AAAAAAADwPwAAAAAAAPA/AAAAAAAA8D8AAAAAAADwPwAAAAAAAPA/AAAAAAAA8D8AAAAAAADwPwAAAAAAAPA/AAAAAAAA8D8AAAAAAADwPwAAAAAAAPA/AAAAAAAA8D8AAAAAAADwPwAAAAAAAPA/AAAAAAAA8D8AAAAAAADwPwAAAAAAAPA/AAAAAAAA8D8AAAAAAADwPwAAAAAAAPA/AAAAAAAA8D8AAAAAAADwPwAAAAAAAPA/AAAAAAAA8D8AAAAAAADwPwAAAAAAAPA/AAAAAAAA8D8AAAAAAADwPwAAAAAAAPA/AAAAAAAA8D8AAAAAAADwPwAAAAAAAPA/AAAAAAAA8D8AAAAAAADwPwAAAAAAAPA/AAAAAAAA8D8AAAAAAADwPwAAAAAAAPA/AAAAAAAA8D8AAAAAAADwPwAAAAAAAPA/AAAAAAAA8D8AAAAAAADwPwAAAAAAAPA/AAAAAAAA8D8AAAAAAADwPwAAAAAAAPA/AAAAAAAA8D8AAAAAAADwPwAAAAAAAPA/AAAAAAAA8D8AAAAAAADwPwAAAAAAAPA/AAAAAAAA8D8AAAAAAADwPwAAAAAAAPA/AAAAAAAA8D8AAAAAAADwPwAAAAAAAPA/AAAAAAAA8D8AAAAAAADwPwAAAAAAAPA/AAAAAAAA8D8AAAAAAADwPwAAAAAAAPA/AAAAAAAA8D8AAAAAAADwPwAAAAAAAPA/AAAAAAAA8D8AAAAAAADwPwAAAAAAAPA/AAAAAAAA8D8AAAAAAADwPwAAAAAAAPA/AAAAAAAA8D8AAAAAAADwPwAAAAAAAPA/AAAAAAAA8D8AAAAAAADwPwAAAAAAAPA/AAAAAAAA8D8AAAAAAADwPwAAAAAAAPA/AAAAAAAA8D8AAAAAAADwPwAAAAAAAPA/AAAAAAAA8D8AAAAAAADwPwAAAAAAAPA/AAAAAAAA8D8AAAAAAADwPwAAAAAAAPA/AAAAAAAA8D8AAAAAAADwPwAAAAAAAPA/AAAAAAAA8D8AAAAAAADwPwAAAAAAAPA/AAAAAAAA8D8AAAAAAADwPwAAAAAAAPA/AAAAAAAA8D8AAAAAAADwPwAAAAAAAPA/AAAAAAAA8D8AAAAAAADwPwAAAAAAAPA/AAAAAAAA8D8AAAAAAADwPwAAAAAAAPA/AAAAAAAA8D8AAAAAAADwPwAAAAAAAPA/AAAAAAAA8D8AAAAAAADwPwAAAAAAAPA/AAAAAAAA8D8AAAAAAADwPwAAAAAAAPA/AAAAAAAA8D8AAAAAAADwPwAAAAAAAPA/AAAAAAAA8D8AAAAAAADwPwAAAAAAAPA/AAAAAAAA8D8AAAAAAADwPwAAAAAAAPA/AAAAAAAA8D8AAAAAAADwPwAAAAAAAPA/AAAAAAAA8D8AAAAAAADwPwAAAAAAAPA/AAAAAAAA8D8AAAAAAADwPwAAAAAAAPA/AAAAAAAA8D8AAAAAAADwPwAAAAAAAPA/AAAAAAAA8D8=\",\"dtype\":\"float64\",\"shape\":[1801]}},\"selected\":{\"id\":\"9803\",\"type\":\"Selection\"},\"selection_policy\":{\"id\":\"9802\",\"type\":\"UnionRenderers\"}},\"id\":\"9448\",\"type\":\"ColumnDataSource\"},{\"attributes\":{},\"id\":\"9803\",\"type\":\"Selection\"},{\"attributes\":{\"data_source\":{\"id\":\"9448\",\"type\":\"ColumnDataSource\"},\"glyph\":{\"id\":\"9449\",\"type\":\"Circle\"},\"hover_glyph\":null,\"muted_glyph\":null,\"nonselection_glyph\":{\"id\":\"9450\",\"type\":\"Circle\"},\"selection_glyph\":null,\"view\":{\"id\":\"9452\",\"type\":\"CDSView\"}},\"id\":\"9451\",\"type\":\"GlyphRenderer\"},{\"attributes\":{},\"id\":\"9430\",\"type\":\"PanTool\"},{\"attributes\":{\"bottom_units\":\"screen\",\"fill_alpha\":{\"value\":0.5},\"fill_color\":{\"value\":\"lightgrey\"},\"left_units\":\"screen\",\"level\":\"overlay\",\"line_alpha\":{\"value\":1.0},\"line_color\":{\"value\":\"black\"},\"line_dash\":[4,4],\"line_width\":{\"value\":2},\"render_mode\":\"css\",\"right_units\":\"screen\",\"top_units\":\"screen\"},\"id\":\"9799\",\"type\":\"BoxAnnotation\"},{\"attributes\":{},\"id\":\"9801\",\"type\":\"Selection\"},{\"attributes\":{\"callback\":null},\"id\":\"9414\",\"type\":\"DataRange1d\"},{\"attributes\":{},\"id\":\"9416\",\"type\":\"LinearScale\"},{\"attributes\":{},\"id\":\"9435\",\"type\":\"HelpTool\"},{\"attributes\":{\"callback\":null},\"id\":\"9412\",\"type\":\"DataRange1d\"},{\"attributes\":{},\"id\":\"9798\",\"type\":\"BasicTickFormatter\"},{\"attributes\":{},\"id\":\"9802\",\"type\":\"UnionRenderers\"},{\"attributes\":{\"fill_color\":{\"value\":\"blue\"},\"line_color\":{\"value\":\"blue\"},\"x\":{\"field\":\"x\"},\"y\":{\"field\":\"y\"}},\"id\":\"9444\",\"type\":\"Circle\"},{\"attributes\":{\"axis_label\":\"time to catastrophe (s)\",\"formatter\":{\"id\":\"9798\",\"type\":\"BasicTickFormatter\"},\"ticker\":{\"id\":\"9421\",\"type\":\"BasicTicker\"}},\"id\":\"9420\",\"type\":\"LinearAxis\"},{\"attributes\":{},\"id\":\"9418\",\"type\":\"LinearScale\"}],\"root_ids\":[\"9411\"]},\"title\":\"Bokeh Application\",\"version\":\"1.4.0\"}};\n",
       "  var render_items = [{\"docid\":\"d50a3673-9026-42c5-a6b9-18fae2c36aaf\",\"roots\":{\"9411\":\"e02e994b-2c55-45f3-a410-50eabe461f7f\"}}];\n",
       "  root.Bokeh.embed.embed_items_notebook(docs_json, render_items);\n",
       "\n",
       "  }\n",
       "  if (root.Bokeh !== undefined) {\n",
       "    embed_document(root);\n",
       "  } else {\n",
       "    var attempts = 0;\n",
       "    var timer = setInterval(function(root) {\n",
       "      if (root.Bokeh !== undefined) {\n",
       "        clearInterval(timer);\n",
       "        embed_document(root);\n",
       "      } else {\n",
       "        attempts++;\n",
       "        if (attempts > 100) {\n",
       "          clearInterval(timer);\n",
       "          console.log(\"Bokeh: ERROR: Unable to run BokehJS code because BokehJS library is missing\");\n",
       "        }\n",
       "      }\n",
       "    }, 10, root)\n",
       "  }\n",
       "})(window);"
      ],
      "application/vnd.bokehjs_exec.v0+json": ""
     },
     "metadata": {
      "application/vnd.bokehjs_exec.v0+json": {
       "id": "9411"
      }
     },
     "output_type": "display_data"
    }
   ],
   "source": [
    "#test it out\n",
    "ecdf_l_highres = ecdf(np.linspace(0, 1800, 1801), labeled_data)\n",
    "ecdf_l_actual  = ecdf(labeled_data, labeled_data)\n",
    "\n",
    "#graph it to make sure it works\n",
    "p1 = bokeh.plotting.figure(\n",
    "    height=350,\n",
    "    width=500,\n",
    "    x_axis_label='time to catastrophe (s)',\n",
    "    y_axis_label='ECDF',\n",
    ")\n",
    "    \n",
    "p1.circle(\n",
    "    x=labeled_data,\n",
    "    y=ecdf_l_actual,\n",
    "    color='blue',\n",
    "    size = 4\n",
    ")\n",
    "    \n",
    "p1.circle(\n",
    "    x=np.linspace(0, 1800, 1801),\n",
    "    y=ecdf_l_highres,\n",
    "    color='orange',\n",
    "    size=1\n",
    ")\n",
    "\n",
    "bokeh.io.show(p1)"
   ]
  },
  {
   "cell_type": "markdown",
   "metadata": {},
   "source": [
    "The \"function\" produces ECDF values that match the actual data. Looks good!"
   ]
  },
  {
   "cell_type": "markdown",
   "metadata": {},
   "source": [
    "## DKW Inequality confidence intervals\n",
    "\n",
    "As one final exploration of the confidence intervals for the distribution of catastrophe times, we will employ the Dvoretzky-Kiefer-Wolfowitz Inequality (DKW) inequality.\n",
    "\n",
    "The DKW Inequality gives upper and lower bounds of the confidence intervals for the ECDF, by bounding the maximum distance between the ECDF and the actual distribution (CDF). Thus, a confidence interval of $100 \\cdot (1-\\alpha)$ is computed by solving the following equations:\n",
    "\n",
    "$\\epsilon = \\sqrt{{1 \\over (2n)} log {2 \\over alpha}}$\n",
    "\n",
    "Lower bound: $L(x) = \\text{max}(0, \\hat{F}(x) - \\epsilon)$\n",
    "\n",
    "Upper bound: $U(x) = \\text{min}(1, \\hat{F}(x) + \\epsilon)$\n",
    "\n",
    "Where $\\alpha$ for a 95% confidence interval is 0.05, and n is the size of the dataset.\n",
    "\n",
    "The function below returns these upper and lower bounds for a dataset and defined $\\alpha$. These values are then plotted for both the labeled and unlabeled tubulin datasets along with the original ECDFs of the experimental data."
   ]
  },
  {
   "cell_type": "code",
   "execution_count": 114,
   "metadata": {},
   "outputs": [],
   "source": [
    "def dkw(data, alpha):\n",
    "    '''\n",
    "    Returns lower and upper bounds of the confidence intervals\n",
    "    for the ECDF of given dataset based on the DKW inequality.\n",
    "    '''\n",
    "    \n",
    "    #calculate epsilon\n",
    "    n = len(data)\n",
    "    eps = np.sqrt( (1/(2*n)) * np.log(2/alpha) )\n",
    "    \n",
    "    #get the empirical cdf\n",
    "    data_ecdf = ecdf(data, data)\n",
    "    \n",
    "    #initialize the lower and empty bound arrays\n",
    "    data_lower = np.empty_like(data)\n",
    "    data_upper = np.empty_like(data)\n",
    "    \n",
    "    for i, F_xi in enumerate(data_ecdf):\n",
    "        \n",
    "        l = max(0, F_xi - eps)\n",
    "        u = min(1, F_xi + eps)\n",
    "        \n",
    "        data_lower[i] = l\n",
    "        data_upper[i] = u\n",
    "        \n",
    "    return data_lower, data_upper"
   ]
  },
  {
   "cell_type": "markdown",
   "metadata": {},
   "source": [
    "Now to use this function to plot the confidence intervals for the labeled and unlabeled catastrophe times data."
   ]
  },
  {
   "cell_type": "code",
   "execution_count": 115,
   "metadata": {},
   "outputs": [],
   "source": [
    "# call functions, obtain ECDF values\n",
    "lower_l, upper_l = dkw(labeled_data, 0.05)\n",
    "lower_u, upper_u = dkw(unlabeled_data, 0.05)\n",
    "\n",
    "ecdf_labeled = ecdf(labeled_data, labeled_data)\n",
    "ecdf_unlabeled = ecdf(unlabeled_data, unlabeled_data)"
   ]
  },
  {
   "cell_type": "code",
   "execution_count": 116,
   "metadata": {},
   "outputs": [
    {
     "name": "stderr",
     "output_type": "stream",
     "text": [
      "BokehDeprecationWarning: 'legend' keyword is deprecated, use explicit 'legend_label', 'legend_field', or 'legend_group' keywords instead\n",
      "BokehDeprecationWarning: 'legend' keyword is deprecated, use explicit 'legend_label', 'legend_field', or 'legend_group' keywords instead\n"
     ]
    },
    {
     "data": {
      "text/html": [
       "\n",
       "\n",
       "\n",
       "\n",
       "\n",
       "\n",
       "  <div class=\"bk-root\" id=\"7a74243e-b309-4d28-bf7a-4f1b284333b3\" data-root-id=\"7610\"></div>\n"
      ]
     },
     "metadata": {},
     "output_type": "display_data"
    },
    {
     "data": {
      "application/javascript": [
       "(function(root) {\n",
       "  function embed_document(root) {\n",
       "    \n",
       "  var docs_json = {\"5c650434-0529-4a26-acdc-cbb9231a5dd5\":{\"roots\":{\"references\":[{\"attributes\":{\"below\":[{\"id\":\"7619\",\"type\":\"LinearAxis\"}],\"center\":[{\"id\":\"7623\",\"type\":\"Grid\"},{\"id\":\"7628\",\"type\":\"Grid\"},{\"id\":\"7654\",\"type\":\"Legend\"}],\"left\":[{\"id\":\"7624\",\"type\":\"LinearAxis\"}],\"plot_height\":350,\"plot_width\":500,\"renderers\":[{\"id\":\"7645\",\"type\":\"GlyphRenderer\"},{\"id\":\"7659\",\"type\":\"GlyphRenderer\"},{\"id\":\"7664\",\"type\":\"GlyphRenderer\"},{\"id\":\"7669\",\"type\":\"GlyphRenderer\"},{\"id\":\"7688\",\"type\":\"GlyphRenderer\"},{\"id\":\"7693\",\"type\":\"GlyphRenderer\"}],\"title\":{\"id\":\"7647\",\"type\":\"Title\"},\"toolbar\":{\"id\":\"7635\",\"type\":\"Toolbar\"},\"x_range\":{\"id\":\"7611\",\"type\":\"DataRange1d\"},\"x_scale\":{\"id\":\"7615\",\"type\":\"LinearScale\"},\"y_range\":{\"id\":\"7613\",\"type\":\"DataRange1d\"},\"y_scale\":{\"id\":\"7617\",\"type\":\"LinearScale\"}},\"id\":\"7610\",\"subtype\":\"Figure\",\"type\":\"Plot\"},{\"attributes\":{\"source\":{\"id\":\"7666\",\"type\":\"ColumnDataSource\"}},\"id\":\"7670\",\"type\":\"CDSView\"},{\"attributes\":{\"line_alpha\":0.1,\"line_color\":\"#1f77b4\",\"line_width\":4,\"x\":{\"field\":\"x\"},\"y\":{\"field\":\"y\"}},\"id\":\"7644\",\"type\":\"Line\"},{\"attributes\":{},\"id\":\"7985\",\"type\":\"UnionRenderers\"},{\"attributes\":{},\"id\":\"7652\",\"type\":\"BasicTickFormatter\"},{\"attributes\":{\"fill_color\":{\"value\":\"blue\"},\"line_color\":{\"value\":\"blue\"},\"size\":{\"units\":\"screen\",\"value\":1},\"x\":{\"field\":\"x\"},\"y\":{\"field\":\"y\"}},\"id\":\"7657\",\"type\":\"Circle\"},{\"attributes\":{\"callback\":null,\"data\":{\"x\":{\"__ndarray__\":\"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\",\"dtype\":\"float64\",\"shape\":[211]},\"y\":{\"__ndarray__\":\"AAAAAAAAAAAAAAAAAAAAAAAAAAAAAAAAAAAAAAAAAAAAAAAAAAAAAAAAAAAAAAAAAAAAAAAAAAAAAAAAAAAAAAAAAAAAAAAAAAAAAAAAAAAAAAAAAAAAAAAAAAAAAAAAAAAAAAAAAAAAAAAAAAAAAAAAAAAAAAAAAAAAAAAAAAAAAAAAAAAAAAAAAAAAAAAAAAAAAAAAAAAAAAAAAAAAAAAAAAAAAAAAAAAAAAAAAADAyj5DRsOPP8DKPkNGw48/BGmOG2qWmT/U6oWYzXCeP9TqhZjNcJ4/1OqFmM1wnj/U6oWYzXCeP9TqhZjNcJ4/9rmthF9aqz/2ua2EX1qrP+Wd0oBhGrA/5Z3SgGEasD/lndKAYRqwP+Wd0oBhGrA/tx/K/cT0tD+3H8r9xPS0P7cfyv3E9LQ/E8GDm4+YuD8TwYObj5i4PxPBg5uPmLg/cWI9OVo8vD9xYj05Wjy8P1sjufeLqb4/WyO594upvj8ichrbXovAP1xiuUqrJsE/XGK5SqsmwT/QQvcpRF3CP9BC9ylEXcI/RCM1Cd2Twz9EIzUJ3ZPDP7gDc+h1ysQ/uANz6HXKxD+4A3PodcrEP7gDc+h1ysQ/osTupqc3xz/ctI0W9NLHP9y0jRb00sc/UJXL9YwJyT9Qlcv1jAnJP1CVy/WMCck/AGaoRHLbyj86Vke0vnbLPzpWR7S+dss/rjaFk1etzD/oJiQDpEjNP+gmJAOkSM0/6CYkA6RIzT+W9wBSiRrPP9Lnn8HVtc8/0uefwdW1zz/S55/B1bXPP9Lnn8HVtc8/0uefwdW1zz96TN33KV/RP3pM3fcpX9E/ekzd9ylf0T/RtEufHEjSP9G0S58cSNI/0bRLnxxI0j/RtEufHEjSP9G0S58cSNI/Yw1ZtlvM0z+AhSjuARrUP5399yWoZ9Q/nf33Jahn1D/Y7ZaV9ALVP9jtlpX0AtU/Et41BUGe1T8S3jUFQZ7VP0zO1HSNOdY/TM7UdI051j+GvnPk2dTWP4a+c+TZ1NY/hr5z5NnU1j+GvnPk2dTWP4a+c+TZ1NY/GBeB+xhZ2D8YF4H7GFnYP1IHIGtl9Ng/b3/vogtC2T9vf++iC0LZP6lvjhJY3dk/qW+OEljd2T/kXy2CpHjaP+RfLYKkeNo/5F8tgqR42j88yJspl2HbPzzImymXYds/drg6meP82z92uDqZ4/zbP7Co2QgwmNw/sKjZCDCY3D/qmHh4fDPdP+qYeHh8M90/JIkX6MjO3T8kiRfoyM7dP155tlcVat4/fPGFj7u33j988YWPu7feP7bhJP8HU98/0ln0Nq6g3z/w0cNuVO7fPwalSVP9HeA/BqVJU/0d4D8kHRmLo2vgPzLZAKd2kuA/MtkAp3aS4D9PUdDeHODgP14NuPrvBuE/bMmfFsMt4T97hYcyllThP3uFhzKWVOE/mP1Wajyi4T+Y/VZqPKLhP5j9Vmo8ouE/xDEOvrUW4j/S7fXZiD3iP+Gp3fVbZOI/4and9Vtk4j/+Ia0tArLiP/4hrS0CsuI/G5p8Zaj/4j8qVmSBeybjPzgSTJ1OTeM/OBJMnU5N4z9VihvV9JrjP2RGA/HHweM/ZEYD8cfB4z+BvtIobg/kP5B6ukRBNuQ/njaiYBRd5D+eNqJgFF3kP7uucZi6quQ/ympZtI3R5D/Kalm0jdHkP8pqWbSN0eQ/9Z4QCAdG5T/1nhAIB0blP/WeEAgHRuU/IdPHW4C65T8wj693U+HlPz5Ll5MmCOY/TQd/r/ku5j9NB3+v+S7mP2p/TueffOY/an9O55985j9qf07nn3zmP5azBTsZ8eY/lrMFOxnx5j+zK9Vyvz7nP8HnvI6SZec/0KOkqmWM5z/eX4zGOLPnP+0bdOIL2uc//Ndb/t4A6D/811v+3gDoPxlQKzaFTug/JwwTUlh16D82yPptK5zoPzbI+m0rnOg/U0DKpdHp6D9h/LHBpBDpP2H8scGkEOk/f3SB+Upe6T9/dIH5Sl7pP5zsUDHxq+k/qqg4TcTS6T+5ZCBpl/npP8cgCIVqIOo/xyAIhWog6j/kmNe8EG7qP/NUv9jjlOo/81S/2OOU6j8QzY4QiuLqPx+JdixdCes/LUVeSDAw6z88AUZkA1frP0q9LYDWfes/WXkVnKmk6z9oNf23fMvrP3bx5NNP8us/ha3M7yIZ7D+TabQL9j/sP6IlnCfJZuw/sOGDQ5yN7D+/nWtfb7TsP81ZU3tC2+w/3BU7lxUC7T8=\",\"dtype\":\"float64\",\"shape\":[211]}},\"selected\":{\"id\":\"7681\",\"type\":\"Selection\"},\"selection_policy\":{\"id\":\"7680\",\"type\":\"UnionRenderers\"}},\"id\":\"7656\",\"type\":\"ColumnDataSource\"},{\"attributes\":{},\"id\":\"7683\",\"type\":\"Selection\"},{\"attributes\":{\"source\":{\"id\":\"7656\",\"type\":\"ColumnDataSource\"}},\"id\":\"7660\",\"type\":\"CDSView\"},{\"attributes\":{\"callback\":null,\"data\":{\"x\":{\"__ndarray__\":\"AAAAAAAAREAAAAAAAABOQAAAAAAAwFJAAAAAAAAAVEAAAAAAAEBVQAAAAAAAQFVAAAAAAABAX0AAAAAAAEBfQAAAAAAAQGBAAAAAAABAYEAAAAAAAOBgQAAAAAAAgGFAAAAAAAAgYkAAAAAAACBiQAAAAAAAIGJAAAAAAADAYkAAAAAAAGBjQAAAAAAAYGNAAAAAAAAAZEAAAAAAAABkQAAAAAAAoGRAAAAAAABAZUAAAAAAAIBmQAAAAAAAgGZAAAAAAACAZkAAAAAAAIBmQAAAAAAAwGdAAAAAAABgaEAAAAAAAEBqQAAAAAAA4GpAAAAAAABgbUAAAAAAAGBtQAAAAAAAYG1AAAAAAACgbkAAAAAAAEBvQAAAAAAAkHBAAAAAAACQcEAAAAAAAIBxQAAAAAAAcHJAAAAAAAAQc0AAAAAAABBzQAAAAAAAAHRAAAAAAACgdEAAAAAAAPB0QAAAAAAA4HVAAAAAAAAwdkAAAAAAADB2QAAAAAAAgHZAAAAAAAAgd0AAAAAAACB3QAAAAAAAwHdAAAAAAABgeEAAAAAAALB4QAAAAAAAAHlAAAAAAABQeUAAAAAAAFB5QAAAAAAAoHlAAAAAAADweUAAAAAAAEB6QAAAAAAAQHpAAAAAAACQekAAAAAAANB7QAAAAAAA0HtAAAAAAADAfEAAAAAAAMB8QAAAAAAAwHxAAAAAAACgfkAAAAAAAPB+QAAAAAAAQH9AAAAAAACQf0AAAAAAAOB/QAAAAAAAaIBAAAAAAABogEAAAAAAAOCAQAAAAAAA4IBAAAAAAAD4gUAAAAAAAMCCQAAAAAAAOINAAAAAAAAAhEAAAAAAAKCEQAAAAAAA8IRAAAAAAAC4hUAAAAAAAOCFQAAAAAAA+IZAAAAAAABIh0AAAAAAAHCHQAAAAAAA6IdAAAAAAAAQiEAAAAAAADCLQAAAAAAAsI1AAAAAAABYkUAAAAAAAOSRQAAAAAAAnJNAAAAAAAAIlkAAAAAAAFycQA==\",\"dtype\":\"float64\",\"shape\":[95]},\"y\":{\"__ndarray__\":\"AAAAAAAAAAAAAAAAAAAAAAAAAAAAAAAAAAAAAAAAAAAAAAAAAAAAAAAAAAAAAAAAAAAAAAAAAAAAAAAAAAAAAAAAAAAAAAAAAAAAAAAAAAAAAAAAAAAAAAAAAAAAAAAAAAAAAAAAAAAAAAAAAAAAAAAAAAAAAAAACNp7IuDHnT9AQ16dpEekP0BDXp2kR6Q/uO+etQ0Prz+47561DQ+vPxbO72Y767Q/NPn/rBWdtz9SJBDz7066P1IkEPPvTro/UiQQ8+9Ouj9SJBDz7066P2RoqIUsi8I/8n2wqBnkwz+Ck7jLBj3FPxCpwO7zlcY/oL7IEeHuxz+gvsgR4e7HP6C+yBHh7sc/TP/geqj5yz/aFOmdlVLNP2oq8cCCq84/airxwIKrzj/EqoCDrq7QP4u1BBUlW9E/UsCIppsH0j9SwIimmwfSP+HVkMmIYNM/qeAUW/8M1D9w65jsdbnUPzf2HH7sZdU//wChD2MS1j//AKEPYxLWP44WqTJQa9c/ViEtxMYX2D9WIS3ExhfYP+Q2NeezcNk/rEG5eCod2j9yTD0KocnaPzpXwZsXdts/AmJFLY4i3D8CYkUtjiLcP5B3TVB7e90/WILR4fEn3j8gjVVzaNTePyCNVXNo1N4/V9Euy6oW4D+71vAT5mzgP7vW8BPmbOA/guF0pVwZ4T+C4XSlXBnhP4LhdKVcGeE/rfG6fw4c4j8R93zISXLiP3X8PhGFyOI/2AEBWsAe4z88B8Oi+3TjP6AMhes2y+M/oAyF6zbL4z9nFwl9rXfkP2cXCX2td+Q/LyKNDiQk5T+SJ09XX3rlP/YsEaCa0OU/WjLT6NUm5j+9N5UxEX3mPyE9V3pM0+Y/hUIZw4cp5z/pR9sLw3/nP0xNnVT+1ec/sFJfnTks6D8UWCHmdILoP3dd4y6w2Og/22Kld+su6T8/aGfAJoXpP6JtKQli2+k/BnPrUZ0x6j9qeK2a2IfqP859b+MT3uo/MYMxLE806z+ViPN0iorrPw==\",\"dtype\":\"float64\",\"shape\":[95]}},\"selected\":{\"id\":\"7986\",\"type\":\"Selection\"},\"selection_policy\":{\"id\":\"7985\",\"type\":\"UnionRenderers\"}},\"id\":\"7685\",\"type\":\"ColumnDataSource\"},{\"attributes\":{\"bottom_units\":\"screen\",\"fill_alpha\":{\"value\":0.5},\"fill_color\":{\"value\":\"lightgrey\"},\"left_units\":\"screen\",\"level\":\"overlay\",\"line_alpha\":{\"value\":1.0},\"line_color\":{\"value\":\"black\"},\"line_dash\":[4,4],\"line_width\":{\"value\":2},\"render_mode\":\"css\",\"right_units\":\"screen\",\"top_units\":\"screen\"},\"id\":\"7653\",\"type\":\"BoxAnnotation\"},{\"attributes\":{\"fill_color\":{\"value\":\"orange\"},\"line_color\":{\"value\":\"orange\"},\"size\":{\"units\":\"screen\",\"value\":1},\"x\":{\"field\":\"x\"},\"y\":{\"field\":\"y\"}},\"id\":\"7691\",\"type\":\"Circle\"},{\"attributes\":{\"active_drag\":\"auto\",\"active_inspect\":\"auto\",\"active_multi\":null,\"active_scroll\":\"auto\",\"active_tap\":\"auto\",\"tools\":[{\"id\":\"7629\",\"type\":\"PanTool\"},{\"id\":\"7630\",\"type\":\"WheelZoomTool\"},{\"id\":\"7631\",\"type\":\"BoxZoomTool\"},{\"id\":\"7632\",\"type\":\"SaveTool\"},{\"id\":\"7633\",\"type\":\"ResetTool\"},{\"id\":\"7634\",\"type\":\"HelpTool\"}]},\"id\":\"7635\",\"type\":\"Toolbar\"},{\"attributes\":{},\"id\":\"7680\",\"type\":\"UnionRenderers\"},{\"attributes\":{\"line_color\":\"blue\",\"line_width\":4,\"x\":{\"field\":\"x\"},\"y\":{\"field\":\"y\"}},\"id\":\"7643\",\"type\":\"Line\"},{\"attributes\":{},\"id\":\"7984\",\"type\":\"Selection\"},{\"attributes\":{},\"id\":\"7629\",\"type\":\"PanTool\"},{\"attributes\":{\"fill_color\":{\"value\":\"blue\"},\"line_color\":{\"value\":\"blue\"},\"size\":{\"units\":\"screen\",\"value\":1},\"x\":{\"field\":\"x\"},\"y\":{\"field\":\"y\"}},\"id\":\"7662\",\"type\":\"Circle\"},{\"attributes\":{\"callback\":null,\"data\":{\"x\":[55.0,60.0,65.0,65.0,75.0,80.0,80.0,95.0,95.0,100.0,105.0,105.0,115.0,120.0,120.0,120.0,130.0,130.0,135.0,135.0,135.0,135.0,140.0,140.0,150.0,155.0,155.0,155.0,155.0,155.0,170.0,170.0,180.0,180.0,180.0,180.0,185.0,185.0,185.0,190.0,190.0,190.0,195.0,195.0,200.0,200.0,205.0,210.0,210.0,215.0,215.0,220.0,220.0,225.0,225.0,225.0,225.0,235.0,240.0,240.0,245.0,245.0,245.0,250.0,255.0,255.0,260.0,270.0,270.0,270.0,275.0,280.0,280.0,280.0,280.0,280.0,285.0,285.0,285.0,290.0,290.0,290.0,290.0,290.0,295.0,300.0,305.0,305.0,320.0,320.0,325.0,325.0,330.0,330.0,340.0,340.0,340.0,340.0,340.0,345.0,345.0,350.0,360.0,360.0,365.0,365.0,370.0,370.0,370.0,380.0,380.0,385.0,385.0,390.0,390.0,395.0,395.0,400.0,400.0,410.0,415.0,415.0,420.0,425.0,435.0,440.0,440.0,445.0,465.0,465.0,470.0,475.0,480.0,490.0,490.0,500.0,500.0,500.0,505.0,510.0,520.0,520.0,525.0,525.0,530.0,535.0,540.0,540.0,545.0,550.0,550.0,560.0,575.0,585.0,585.0,595.0,600.0,600.0,600.0,605.0,605.0,605.0,610.0,620.0,625.0,635.0,635.0,640.0,640.0,640.0,650.0,650.0,660.0,665.0,670.0,675.0,680.0,705.0,705.0,710.0,735.0,745.0,745.0,765.0,770.0,770.0,800.0,800.0,820.0,835.0,850.0,860.0,860.0,875.0,885.0,885.0,890.0,910.0,955.0,980.0,1000.0,1010.0,1030.0,1095.0,1105.0,1180.0,1385.0,1415.0,1425.0,1530.0,1730.0],\"y\":[0.004739336492890996,0.009478672985781991,0.014218009478672985,0.014218009478672985,0.023696682464454975,0.02843601895734597,0.02843601895734597,0.037914691943127965,0.037914691943127965,0.04739336492890995,0.052132701421800945,0.052132701421800945,0.061611374407582936,0.06635071090047394,0.06635071090047394,0.06635071090047394,0.08056872037914692,0.08056872037914692,0.09004739336492891,0.09004739336492891,0.09004739336492891,0.09004739336492891,0.10900473933649289,0.10900473933649289,0.11848341232227488,0.12322274881516587,0.12322274881516587,0.12322274881516587,0.12322274881516587,0.12322274881516587,0.14691943127962084,0.14691943127962084,0.15639810426540285,0.15639810426540285,0.15639810426540285,0.15639810426540285,0.17535545023696683,0.17535545023696683,0.17535545023696683,0.1895734597156398,0.1895734597156398,0.1895734597156398,0.2037914691943128,0.2037914691943128,0.2132701421800948,0.2132701421800948,0.22274881516587677,0.22748815165876776,0.22748815165876776,0.23696682464454977,0.23696682464454977,0.24644549763033174,0.24644549763033174,0.2559241706161137,0.2559241706161137,0.2559241706161137,0.2559241706161137,0.27488151658767773,0.2796208530805687,0.2796208530805687,0.2890995260663507,0.2890995260663507,0.2890995260663507,0.3033175355450237,0.3080568720379147,0.3080568720379147,0.3175355450236967,0.3222748815165877,0.3222748815165877,0.3222748815165877,0.33649289099526064,0.3412322274881517,0.3412322274881517,0.3412322274881517,0.3412322274881517,0.3412322274881517,0.36492890995260663,0.36492890995260663,0.36492890995260663,0.3791469194312796,0.3791469194312796,0.3791469194312796,0.3791469194312796,0.3791469194312796,0.4028436018957346,0.4075829383886256,0.41232227488151657,0.41232227488151657,0.4218009478672986,0.4218009478672986,0.4312796208530806,0.4312796208530806,0.44075829383886256,0.44075829383886256,0.45023696682464454,0.45023696682464454,0.45023696682464454,0.45023696682464454,0.45023696682464454,0.47393364928909953,0.47393364928909953,0.4834123222748815,0.4881516587677725,0.4881516587677725,0.4976303317535545,0.4976303317535545,0.5071090047393365,0.5071090047393365,0.5071090047393365,0.5213270142180095,0.5213270142180095,0.5308056872037915,0.5308056872037915,0.5402843601895735,0.5402843601895735,0.5497630331753555,0.5497630331753555,0.5592417061611374,0.5592417061611374,0.5687203791469194,0.5734597156398105,0.5734597156398105,0.5829383886255924,0.5876777251184834,0.5924170616113744,0.5971563981042654,0.5971563981042654,0.6066350710900474,0.6113744075829384,0.6113744075829384,0.6208530805687204,0.6255924170616114,0.6303317535545023,0.6350710900473934,0.6350710900473934,0.6445497630331753,0.6445497630331753,0.6445497630331753,0.6587677725118484,0.6635071090047393,0.6682464454976303,0.6682464454976303,0.6777251184834123,0.6777251184834123,0.6872037914691943,0.6919431279620853,0.6966824644549763,0.6966824644549763,0.7061611374407583,0.7109004739336493,0.7109004739336493,0.7203791469194313,0.7251184834123223,0.7298578199052133,0.7298578199052133,0.7393364928909952,0.7440758293838863,0.7440758293838863,0.7440758293838863,0.7582938388625592,0.7582938388625592,0.7582938388625592,0.7725118483412322,0.7772511848341233,0.7819905213270142,0.7867298578199052,0.7867298578199052,0.7962085308056872,0.7962085308056872,0.7962085308056872,0.8104265402843602,0.8104265402843602,0.8199052132701422,0.8246445497630331,0.8293838862559242,0.8341232227488151,0.8388625592417062,0.8436018957345972,0.8436018957345972,0.8530805687203792,0.8578199052132701,0.8625592417061612,0.8625592417061612,0.8720379146919431,0.8767772511848341,0.8767772511848341,0.8862559241706162,0.8862559241706162,0.8957345971563981,0.9004739336492891,0.9052132701421801,0.909952606635071,0.909952606635071,0.919431279620853,0.9241706161137441,0.9241706161137441,0.933649289099526,0.9383886255924171,0.943127962085308,0.9478672985781991,0.95260663507109,0.957345971563981,0.9620853080568721,0.966824644549763,0.9715639810426541,0.976303317535545,0.981042654028436,0.985781990521327,0.990521327014218,0.995260663507109,1.0]},\"selected\":{\"id\":\"7679\",\"type\":\"Selection\"},\"selection_policy\":{\"id\":\"7678\",\"type\":\"UnionRenderers\"}},\"id\":\"7642\",\"type\":\"ColumnDataSource\"},{\"attributes\":{\"fill_alpha\":{\"value\":0.1},\"fill_color\":{\"value\":\"#1f77b4\"},\"line_alpha\":{\"value\":0.1},\"line_color\":{\"value\":\"#1f77b4\"},\"size\":{\"units\":\"screen\",\"value\":1},\"x\":{\"field\":\"x\"},\"y\":{\"field\":\"y\"}},\"id\":\"7687\",\"type\":\"Circle\"},{\"attributes\":{},\"id\":\"7678\",\"type\":\"UnionRenderers\"},{\"attributes\":{},\"id\":\"7681\",\"type\":\"Selection\"},{\"attributes\":{},\"id\":\"7630\",\"type\":\"WheelZoomTool\"},{\"attributes\":{\"data_source\":{\"id\":\"7661\",\"type\":\"ColumnDataSource\"},\"glyph\":{\"id\":\"7662\",\"type\":\"Circle\"},\"hover_glyph\":null,\"muted_glyph\":null,\"nonselection_glyph\":{\"id\":\"7663\",\"type\":\"Circle\"},\"selection_glyph\":null,\"view\":{\"id\":\"7665\",\"type\":\"CDSView\"}},\"id\":\"7664\",\"type\":\"GlyphRenderer\"},{\"attributes\":{\"callback\":null},\"id\":\"7611\",\"type\":\"DataRange1d\"},{\"attributes\":{\"data_source\":{\"id\":\"7685\",\"type\":\"ColumnDataSource\"},\"glyph\":{\"id\":\"7686\",\"type\":\"Circle\"},\"hover_glyph\":null,\"muted_glyph\":null,\"nonselection_glyph\":{\"id\":\"7687\",\"type\":\"Circle\"},\"selection_glyph\":null,\"view\":{\"id\":\"7689\",\"type\":\"CDSView\"}},\"id\":\"7688\",\"type\":\"GlyphRenderer\"},{\"attributes\":{\"overlay\":{\"id\":\"7653\",\"type\":\"BoxAnnotation\"}},\"id\":\"7631\",\"type\":\"BoxZoomTool\"},{\"attributes\":{\"line_alpha\":0.1,\"line_color\":\"#1f77b4\",\"line_width\":4,\"x\":{\"field\":\"x\"},\"y\":{\"field\":\"y\"}},\"id\":\"7668\",\"type\":\"Line\"},{\"attributes\":{\"callback\":null},\"id\":\"7613\",\"type\":\"DataRange1d\"},{\"attributes\":{\"items\":[{\"id\":\"7655\",\"type\":\"LegendItem\"},{\"id\":\"7684\",\"type\":\"LegendItem\"}],\"location\":\"bottom_right\"},\"id\":\"7654\",\"type\":\"Legend\"},{\"attributes\":{},\"id\":\"7615\",\"type\":\"LinearScale\"},{\"attributes\":{},\"id\":\"7632\",\"type\":\"SaveTool\"},{\"attributes\":{\"callback\":null,\"data\":{\"x\":[40.0,60.0,75.0,80.0,85.0,85.0,125.0,125.0,130.0,130.0,135.0,140.0,145.0,145.0,145.0,150.0,155.0,155.0,160.0,160.0,165.0,170.0,180.0,180.0,180.0,180.0,190.0,195.0,210.0,215.0,235.0,235.0,235.0,245.0,250.0,265.0,265.0,280.0,295.0,305.0,305.0,320.0,330.0,335.0,350.0,355.0,355.0,360.0,370.0,370.0,380.0,390.0,395.0,400.0,405.0,405.0,410.0,415.0,420.0,420.0,425.0,445.0,445.0,460.0,460.0,460.0,490.0,495.0,500.0,505.0,510.0,525.0,525.0,540.0,540.0,575.0,600.0,615.0,640.0,660.0,670.0,695.0,700.0,735.0,745.0,750.0,765.0,770.0,870.0,950.0,1110.0,1145.0,1255.0,1410.0,1815.0],\"y\":[0.010526315789473684,0.021052631578947368,0.031578947368421054,0.042105263157894736,0.05263157894736842,0.05263157894736842,0.07368421052631578,0.07368421052631578,0.09473684210526316,0.09473684210526316,0.11578947368421053,0.12631578947368421,0.1368421052631579,0.1368421052631579,0.1368421052631579,0.16842105263157894,0.17894736842105263,0.17894736842105263,0.2,0.2,0.22105263157894736,0.23157894736842105,0.24210526315789474,0.24210526315789474,0.24210526315789474,0.24210526315789474,0.28421052631578947,0.29473684210526313,0.30526315789473685,0.3157894736842105,0.3263157894736842,0.3263157894736842,0.3263157894736842,0.35789473684210527,0.3684210526315789,0.37894736842105264,0.37894736842105264,0.4,0.4105263157894737,0.42105263157894735,0.42105263157894735,0.4421052631578947,0.45263157894736844,0.4631578947368421,0.47368421052631576,0.4842105263157895,0.4842105263157895,0.5052631578947369,0.5157894736842106,0.5157894736842106,0.5368421052631579,0.5473684210526316,0.5578947368421052,0.5684210526315789,0.5789473684210527,0.5789473684210527,0.6,0.6105263157894737,0.6210526315789474,0.6210526315789474,0.6421052631578947,0.6526315789473685,0.6526315789473685,0.6736842105263158,0.6736842105263158,0.6736842105263158,0.7052631578947368,0.7157894736842105,0.7263157894736842,0.7368421052631579,0.7473684210526316,0.7578947368421053,0.7578947368421053,0.7789473684210526,0.7789473684210526,0.8,0.8105263157894737,0.8210526315789474,0.8315789473684211,0.8421052631578947,0.8526315789473684,0.8631578947368421,0.8736842105263158,0.8842105263157894,0.8947368421052632,0.9052631578947369,0.9157894736842105,0.9263157894736842,0.9368421052631579,0.9473684210526315,0.9578947368421052,0.968421052631579,0.9789473684210527,0.9894736842105263,1.0]},\"selected\":{\"id\":\"7984\",\"type\":\"Selection\"},\"selection_policy\":{\"id\":\"7983\",\"type\":\"UnionRenderers\"}},\"id\":\"7666\",\"type\":\"ColumnDataSource\"},{\"attributes\":{\"source\":{\"id\":\"7685\",\"type\":\"ColumnDataSource\"}},\"id\":\"7689\",\"type\":\"CDSView\"},{\"attributes\":{\"label\":{\"value\":\"unlabeled\"},\"renderers\":[{\"id\":\"7669\",\"type\":\"GlyphRenderer\"}]},\"id\":\"7684\",\"type\":\"LegendItem\"},{\"attributes\":{},\"id\":\"7633\",\"type\":\"ResetTool\"},{\"attributes\":{\"line_color\":\"orange\",\"line_width\":4,\"x\":{\"field\":\"x\"},\"y\":{\"field\":\"y\"}},\"id\":\"7667\",\"type\":\"Line\"},{\"attributes\":{\"data_source\":{\"id\":\"7642\",\"type\":\"ColumnDataSource\"},\"glyph\":{\"id\":\"7643\",\"type\":\"Line\"},\"hover_glyph\":null,\"muted_glyph\":null,\"nonselection_glyph\":{\"id\":\"7644\",\"type\":\"Line\"},\"selection_glyph\":null,\"view\":{\"id\":\"7646\",\"type\":\"CDSView\"}},\"id\":\"7645\",\"type\":\"GlyphRenderer\"},{\"attributes\":{\"fill_color\":{\"value\":\"orange\"},\"line_color\":{\"value\":\"orange\"},\"size\":{\"units\":\"screen\",\"value\":1},\"x\":{\"field\":\"x\"},\"y\":{\"field\":\"y\"}},\"id\":\"7686\",\"type\":\"Circle\"},{\"attributes\":{},\"id\":\"7634\",\"type\":\"HelpTool\"},{\"attributes\":{},\"id\":\"7987\",\"type\":\"UnionRenderers\"},{\"attributes\":{},\"id\":\"7617\",\"type\":\"LinearScale\"},{\"attributes\":{\"data_source\":{\"id\":\"7656\",\"type\":\"ColumnDataSource\"},\"glyph\":{\"id\":\"7657\",\"type\":\"Circle\"},\"hover_glyph\":null,\"muted_glyph\":null,\"nonselection_glyph\":{\"id\":\"7658\",\"type\":\"Circle\"},\"selection_glyph\":null,\"view\":{\"id\":\"7660\",\"type\":\"CDSView\"}},\"id\":\"7659\",\"type\":\"GlyphRenderer\"},{\"attributes\":{\"fill_alpha\":{\"value\":0.1},\"fill_color\":{\"value\":\"#1f77b4\"},\"line_alpha\":{\"value\":0.1},\"line_color\":{\"value\":\"#1f77b4\"},\"size\":{\"units\":\"screen\",\"value\":1},\"x\":{\"field\":\"x\"},\"y\":{\"field\":\"y\"}},\"id\":\"7692\",\"type\":\"Circle\"},{\"attributes\":{\"callback\":null,\"data\":{\"x\":{\"__ndarray__\":\"AAAAAAAAREAAAAAAAABOQAAAAAAAwFJAAAAAAAAAVEAAAAAAAEBVQAAAAAAAQFVAAAAAAABAX0AAAAAAAEBfQAAAAAAAQGBAAAAAAABAYEAAAAAAAOBgQAAAAAAAgGFAAAAAAAAgYkAAAAAAACBiQAAAAAAAIGJAAAAAAADAYkAAAAAAAGBjQAAAAAAAYGNAAAAAAAAAZEAAAAAAAABkQAAAAAAAoGRAAAAAAABAZUAAAAAAAIBmQAAAAAAAgGZAAAAAAACAZkAAAAAAAIBmQAAAAAAAwGdAAAAAAABgaEAAAAAAAEBqQAAAAAAA4GpAAAAAAABgbUAAAAAAAGBtQAAAAAAAYG1AAAAAAACgbkAAAAAAAEBvQAAAAAAAkHBAAAAAAACQcEAAAAAAAIBxQAAAAAAAcHJAAAAAAAAQc0AAAAAAABBzQAAAAAAAAHRAAAAAAACgdEAAAAAAAPB0QAAAAAAA4HVAAAAAAAAwdkAAAAAAADB2QAAAAAAAgHZAAAAAAAAgd0AAAAAAACB3QAAAAAAAwHdAAAAAAABgeEAAAAAAALB4QAAAAAAAAHlAAAAAAABQeUAAAAAAAFB5QAAAAAAAoHlAAAAAAADweUAAAAAAAEB6QAAAAAAAQHpAAAAAAACQekAAAAAAANB7QAAAAAAA0HtAAAAAAADAfEAAAAAAAMB8QAAAAAAAwHxAAAAAAACgfkAAAAAAAPB+QAAAAAAAQH9AAAAAAACQf0AAAAAAAOB/QAAAAAAAaIBAAAAAAABogEAAAAAAAOCAQAAAAAAA4IBAAAAAAAD4gUAAAAAAAMCCQAAAAAAAOINAAAAAAAAAhEAAAAAAAKCEQAAAAAAA8IRAAAAAAAC4hUAAAAAAAOCFQAAAAAAA+IZAAAAAAABIh0AAAAAAAHCHQAAAAAAA6IdAAAAAAAAQiEAAAAAAADCLQAAAAAAAsI1AAAAAAABYkUAAAAAAAOSRQAAAAAAAnJNAAAAAAAAIlkAAAAAAAFycQA==\",\"dtype\":\"float64\",\"shape\":[95]},\"y\":{\"__ndarray__\":\"O/M5T8Muwz/KCEJysIfEP1geSpWd4MU/5zNSuIo5xz92SVrbd5LIP3ZJWtt3ksg/lHRqIVJEyz+UdGohUkTLP7Kfemcs9s0/sp96Zyz2zT9oZcVWA1TQPy9wSeh5ANE/9nrNefCs0T/2es158KzRP/Z6zXnwrNE/TJtZLlSy0z8Upt2/yl7UPxSm3b/KXtQ/o7vl4re31T+ju+Xit7fVPzLR7QWlENc/+dtxlxu91z/A5vUokmnYP8Dm9SiSadg/wOb1KJJp2D/A5vUokmnYP94RBm9sG9s/pRyKAOPH2z9tJw6SWXTcPzQykiPQIN0//DwWtUbN3T/8PBa1Rs3dP/w8FrVGzd0/Ul2iaarS3z8MNJN9kD/gP3A5VcbLleA/cDlVxsuV4D84RNlXQkLhP5xJm6B9mOE//05d6bju4T//Tl3puO7hP8ZZ4Xovm+I/Kl+jw2rx4j+OZGUMpkfjP/JpJ1XhneM/Vm/pnRz04z9Wb+mdHPTjPx16bS+ToOQ/gX8veM725D+Bfy94zvbkP0iKswlFo+U/rI91UoD55T8PlTebu0/mP3Oa+eP2peY/15+7LDL85j/Xn7ssMvzmP56qP76oqOc/ArABB+T+5z9mtcNPH1XoP2a1w08fVeg/LcBH4ZUB6T+RxQkq0VfpP5HFCSrRV+k/WNCNu0cE6j9Y0I27RwTqP1jQjbtHBOo/g+DTlfkG6z/n5ZXeNF3rP0vrVydws+s/rvAZcKsJ7D8S9tu45l/sP3b7nQEituw/dvudASK27D89BiKTmGLtPz0GIpOYYu0/BRGmJA8P7j9oFmhtSmXuP8wbKraFu+4/MCHs/sAR7z+TJq5H/GfvP/crcJA3vu8/AAAAAAAA8D8AAAAAAADwPwAAAAAAAPA/AAAAAAAA8D8AAAAAAADwPwAAAAAAAPA/AAAAAAAA8D8AAAAAAADwPwAAAAAAAPA/AAAAAAAA8D8AAAAAAADwPwAAAAAAAPA/AAAAAAAA8D8AAAAAAADwPw==\",\"dtype\":\"float64\",\"shape\":[95]}},\"selected\":{\"id\":\"7988\",\"type\":\"Selection\"},\"selection_policy\":{\"id\":\"7987\",\"type\":\"UnionRenderers\"}},\"id\":\"7690\",\"type\":\"ColumnDataSource\"},{\"attributes\":{\"axis_label\":\"time to catastrophe (s)\",\"formatter\":{\"id\":\"7652\",\"type\":\"BasicTickFormatter\"},\"ticker\":{\"id\":\"7620\",\"type\":\"BasicTicker\"}},\"id\":\"7619\",\"type\":\"LinearAxis\"},{\"attributes\":{},\"id\":\"7986\",\"type\":\"Selection\"},{\"attributes\":{\"dimension\":1,\"ticker\":{\"id\":\"7625\",\"type\":\"BasicTicker\"}},\"id\":\"7628\",\"type\":\"Grid\"},{\"attributes\":{\"data_source\":{\"id\":\"7690\",\"type\":\"ColumnDataSource\"},\"glyph\":{\"id\":\"7691\",\"type\":\"Circle\"},\"hover_glyph\":null,\"muted_glyph\":null,\"nonselection_glyph\":{\"id\":\"7692\",\"type\":\"Circle\"},\"selection_glyph\":null,\"view\":{\"id\":\"7694\",\"type\":\"CDSView\"}},\"id\":\"7693\",\"type\":\"GlyphRenderer\"},{\"attributes\":{},\"id\":\"7620\",\"type\":\"BasicTicker\"},{\"attributes\":{},\"id\":\"7679\",\"type\":\"Selection\"},{\"attributes\":{\"source\":{\"id\":\"7661\",\"type\":\"ColumnDataSource\"}},\"id\":\"7665\",\"type\":\"CDSView\"},{\"attributes\":{\"source\":{\"id\":\"7690\",\"type\":\"ColumnDataSource\"}},\"id\":\"7694\",\"type\":\"CDSView\"},{\"attributes\":{\"ticker\":{\"id\":\"7620\",\"type\":\"BasicTicker\"}},\"id\":\"7623\",\"type\":\"Grid\"},{\"attributes\":{},\"id\":\"7650\",\"type\":\"BasicTickFormatter\"},{\"attributes\":{\"fill_alpha\":{\"value\":0.1},\"fill_color\":{\"value\":\"#1f77b4\"},\"line_alpha\":{\"value\":0.1},\"line_color\":{\"value\":\"#1f77b4\"},\"size\":{\"units\":\"screen\",\"value\":1},\"x\":{\"field\":\"x\"},\"y\":{\"field\":\"y\"}},\"id\":\"7663\",\"type\":\"Circle\"},{\"attributes\":{},\"id\":\"7983\",\"type\":\"UnionRenderers\"},{\"attributes\":{\"callback\":null,\"data\":{\"x\":{\"__ndarray__\":\"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\",\"dtype\":\"float64\",\"shape\":[211]},\"y\":{\"__ndarray__\":\"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\",\"dtype\":\"float64\",\"shape\":[211]}},\"selected\":{\"id\":\"7683\",\"type\":\"Selection\"},\"selection_policy\":{\"id\":\"7682\",\"type\":\"UnionRenderers\"}},\"id\":\"7661\",\"type\":\"ColumnDataSource\"},{\"attributes\":{},\"id\":\"7625\",\"type\":\"BasicTicker\"},{\"attributes\":{\"fill_alpha\":{\"value\":0.1},\"fill_color\":{\"value\":\"#1f77b4\"},\"line_alpha\":{\"value\":0.1},\"line_color\":{\"value\":\"#1f77b4\"},\"size\":{\"units\":\"screen\",\"value\":1},\"x\":{\"field\":\"x\"},\"y\":{\"field\":\"y\"}},\"id\":\"7658\",\"type\":\"Circle\"},{\"attributes\":{\"axis_label\":\"ECDF\",\"formatter\":{\"id\":\"7650\",\"type\":\"BasicTickFormatter\"},\"ticker\":{\"id\":\"7625\",\"type\":\"BasicTicker\"}},\"id\":\"7624\",\"type\":\"LinearAxis\"},{\"attributes\":{\"source\":{\"id\":\"7642\",\"type\":\"ColumnDataSource\"}},\"id\":\"7646\",\"type\":\"CDSView\"},{\"attributes\":{\"label\":{\"value\":\"labeled\"},\"renderers\":[{\"id\":\"7645\",\"type\":\"GlyphRenderer\"}]},\"id\":\"7655\",\"type\":\"LegendItem\"},{\"attributes\":{},\"id\":\"7682\",\"type\":\"UnionRenderers\"},{\"attributes\":{\"text\":\"\"},\"id\":\"7647\",\"type\":\"Title\"},{\"attributes\":{},\"id\":\"7988\",\"type\":\"Selection\"},{\"attributes\":{\"data_source\":{\"id\":\"7666\",\"type\":\"ColumnDataSource\"},\"glyph\":{\"id\":\"7667\",\"type\":\"Line\"},\"hover_glyph\":null,\"muted_glyph\":null,\"nonselection_glyph\":{\"id\":\"7668\",\"type\":\"Line\"},\"selection_glyph\":null,\"view\":{\"id\":\"7670\",\"type\":\"CDSView\"}},\"id\":\"7669\",\"type\":\"GlyphRenderer\"}],\"root_ids\":[\"7610\"]},\"title\":\"Bokeh Application\",\"version\":\"1.4.0\"}};\n",
       "  var render_items = [{\"docid\":\"5c650434-0529-4a26-acdc-cbb9231a5dd5\",\"roots\":{\"7610\":\"7a74243e-b309-4d28-bf7a-4f1b284333b3\"}}];\n",
       "  root.Bokeh.embed.embed_items_notebook(docs_json, render_items);\n",
       "\n",
       "  }\n",
       "  if (root.Bokeh !== undefined) {\n",
       "    embed_document(root);\n",
       "  } else {\n",
       "    var attempts = 0;\n",
       "    var timer = setInterval(function(root) {\n",
       "      if (root.Bokeh !== undefined) {\n",
       "        clearInterval(timer);\n",
       "        embed_document(root);\n",
       "      } else {\n",
       "        attempts++;\n",
       "        if (attempts > 100) {\n",
       "          clearInterval(timer);\n",
       "          console.log(\"Bokeh: ERROR: Unable to run BokehJS code because BokehJS library is missing\");\n",
       "        }\n",
       "      }\n",
       "    }, 10, root)\n",
       "  }\n",
       "})(window);"
      ],
      "application/vnd.bokehjs_exec.v0+json": ""
     },
     "metadata": {
      "application/vnd.bokehjs_exec.v0+json": {
       "id": "7610"
      }
     },
     "output_type": "display_data"
    }
   ],
   "source": [
    "p2 = bokeh.plotting.figure(\n",
    "    height=350,\n",
    "    width=500,\n",
    "    x_axis_label='time to catastrophe (s)',\n",
    "    y_axis_label='ECDF',\n",
    ")\n",
    "    \n",
    "p2.line(\n",
    "    x=sorted(labeled_data),\n",
    "    y=sorted(ecdf_labeled),\n",
    "    color='blue',\n",
    "    legend='labeled',\n",
    "    line_width=4\n",
    ")\n",
    "\n",
    "p2.circle(\n",
    "    x=labeled_data,\n",
    "    y=lower_l,\n",
    "    color='blue',\n",
    "    size=1\n",
    ")\n",
    "\n",
    "p2.circle(\n",
    "    x=labeled_data,\n",
    "    y=upper_l,\n",
    "    color='blue',\n",
    "    size=1\n",
    ")\n",
    "\n",
    "p2.line(\n",
    "    x=sorted(unlabeled_data),\n",
    "    y=sorted(ecdf_unlabeled),\n",
    "    color='orange',\n",
    "    legend='unlabeled',\n",
    "    line_width=4)\n",
    "\n",
    "p2.circle(\n",
    "    x=unlabeled_data,\n",
    "    y=lower_u,\n",
    "    color='orange',\n",
    "    size=1\n",
    ")\n",
    "\n",
    "p2.circle(\n",
    "    x=unlabeled_data,\n",
    "    y=upper_u,\n",
    "    color='orange',\n",
    "    size=1\n",
    ")\n",
    "\n",
    "p2.legend.location = 'bottom_right'\n",
    "bokeh.io.show(p2)"
   ]
  },
  {
   "cell_type": "markdown",
   "metadata": {},
   "source": [
    "As was seen before in calculating the confidence intervals for the means, the labeled tubulin data are more tightly distributed than those of the unlabeled. However, unlike the previously generated ECDF with confidence intervals, The 95% confidence region for the labeled tubulin lies entirely within the unlabeled region. It appears more likely that these datasets are from the same distribution. \n",
    "\n",
    "For this method, part of the reason for the larger confidence intervals in the unlabeled case may be due to the fact that the dataset is less than half the size of the unlabeled ($n = 95$ vs. $n = 211$). This results in a larger epsilon value, and may result in the wider confidence region."
   ]
  },
  {
   "cell_type": "code",
   "execution_count": null,
   "metadata": {},
   "outputs": [],
   "source": []
  }
 ],
 "metadata": {
  "kernelspec": {
   "display_name": "Python 3",
   "language": "python",
   "name": "python3"
  },
  "language_info": {
   "codemirror_mode": {
    "name": "ipython",
    "version": 3
   },
   "file_extension": ".py",
   "mimetype": "text/x-python",
   "name": "python",
   "nbconvert_exporter": "python",
   "pygments_lexer": "ipython3",
   "version": "3.7.4"
  }
 },
 "nbformat": 4,
 "nbformat_minor": 4
}
